{
 "cells": [
  {
   "cell_type": "markdown",
   "id": "motivated-matrix",
   "metadata": {},
   "source": [
    "# ★ Exploration 4. 작사가 인공지능 만들기 ★\n",
    "## * 아래는 최종 프로젝트에 제출하는 ipynb 노트북 파일입니다. *"
   ]
  },
  {
   "cell_type": "markdown",
   "id": "wanted-creativity",
   "metadata": {},
   "source": [
    "### Part 1. 데이터 다듬기 (전처리)"
   ]
  },
  {
   "cell_type": "markdown",
   "id": "atlantic-demonstration",
   "metadata": {},
   "source": [
    "#### 1) 라이브러리 불러오기 및 내용 확인하기"
   ]
  },
  {
   "cell_type": "code",
   "execution_count": 1,
   "id": "hidden-andrew",
   "metadata": {},
   "outputs": [
    {
     "name": "stdout",
     "output_type": "stream",
     "text": [
      "데이터 크기: 187088\n",
      "Examples:\n",
      " ['At first I was afraid', 'I was petrified', 'I kept thinking I could never live without you', 'By my side But then I spent so many nights']\n"
     ]
    }
   ],
   "source": [
    "## 필요한 라이브러리를 불러오자.\n",
    "\n",
    "import glob\n",
    "import os, re\n",
    "import tensorflow as tf\n",
    "\n",
    "txt_file_path = os.getenv('HOME')+'/aiffel/lyricist/data/lyrics/*'\n",
    "\n",
    "txt_list = glob.glob(txt_file_path)\n",
    "\n",
    "raw_corpus = []\n",
    "\n",
    "## 여러 개의 txt 파일을 모두 읽어서 raw_corpus 에 담자.\n",
    "## 라인 단위로 끊어서 리스트 형태로 읽어오자.\n",
    "\n",
    "for txt_file in txt_list:\n",
    "    with open(txt_file, \"r\") as f:\n",
    "        raw = f.read().splitlines()\n",
    "        raw_corpus.extend(raw)\n",
    "\n",
    "print(\"데이터 크기:\", len(raw_corpus))\n",
    "print(\"Examples:\\n\", raw_corpus[:4])"
   ]
  },
  {
   "cell_type": "markdown",
   "id": "german-origin",
   "metadata": {},
   "source": [
    "#### 2) 읽어온 데이터 정제하기"
   ]
  },
  {
   "cell_type": "code",
   "execution_count": 2,
   "id": "waiting-schedule",
   "metadata": {},
   "outputs": [],
   "source": [
    "## 정규 표현식을 활용해 아래와 같이 소문자로 바꾸고, 특수문자를 삭제하고 공백을 처리하는 작업을 할 수 있다.\n",
    "\n",
    "def preprocess_sentence(sentence):\n",
    "    sentence = sentence.lower().strip() # 1\n",
    "    sentence = re.sub(r\"([?.!,¿])\", r\" \\1 \", sentence) # 2\n",
    "    sentence = re.sub(r'[\" \"]+', \" \", sentence) # 3\n",
    "    sentence = re.sub(r\"[^a-zA-Z?.!,¿]+\", \" \", sentence) # 4\n",
    "    sentence = sentence.strip() # 5\n",
    "    sentence = '<start> ' + sentence + ' <end>' # 6\n",
    "    return sentence"
   ]
  },
  {
   "cell_type": "code",
   "execution_count": 3,
   "id": "effective-prediction",
   "metadata": {},
   "outputs": [
    {
     "data": {
      "text/plain": [
       "['<start> at first i was afraid <end>',\n",
       " '<start> i was petrified <end>',\n",
       " '<start> i kept thinking i could never live without you <end>',\n",
       " '<start> by my side but then i spent so many nights <end>',\n",
       " '<start> just thinking how you ve done me wrong <end>',\n",
       " '<start> i grew strong <end>',\n",
       " '<start> i learned how to get along and so you re back <end>',\n",
       " '<start> from outer space <end>',\n",
       " '<start> i just walked in to find you <end>',\n",
       " '<start> here without that look upon your face i should have changed that fucking lock <end>']"
      ]
     },
     "execution_count": 3,
     "metadata": {},
     "output_type": "execute_result"
    }
   ],
   "source": [
    "# 정제된 문장을 모으자.\n",
    "corpus = []\n",
    "\n",
    "for sentence in raw_corpus:\n",
    "    ## 아래와 같이 문장의 요소가 아예 없는 경우이거나 문장이 ':' 로 끝나는 경우는 제외하자.\n",
    "    if len(sentence) == 0: continue\n",
    "    if sentence[-1] == \":\": continue\n",
    "    \n",
    "    # 정제를 하고 담자.\n",
    "    preprocessed_sentence = preprocess_sentence(sentence)\n",
    "    corpus.append(preprocessed_sentence)\n",
    "    \n",
    "# 정제된 결과의 일부를 확인해보자.\n",
    "corpus[:10]"
   ]
  },
  {
   "cell_type": "markdown",
   "id": "quiet-atlantic",
   "metadata": {},
   "source": [
    "#### 3) 토큰화하기"
   ]
  },
  {
   "cell_type": "code",
   "execution_count": 4,
   "id": "amino-sensitivity",
   "metadata": {},
   "outputs": [
    {
     "name": "stdout",
     "output_type": "stream",
     "text": [
      "156013\n"
     ]
    }
   ],
   "source": [
    "# 토큰 개수가 15개 이상이면 제외를 권장하여, 아래와 같이 제외하자.\n",
    "corpus_ret = []\n",
    "for n in range(len(corpus)):\n",
    "    if corpus[n].count(\" \") < 15:\n",
    "        corpus_ret.append(corpus[n])\n",
    "\n",
    "print(len(corpus_ret)) # 156013개 출력"
   ]
  },
  {
   "cell_type": "code",
   "execution_count": 5,
   "id": "sixth-sodium",
   "metadata": {},
   "outputs": [
    {
     "name": "stdout",
     "output_type": "stream",
     "text": [
      "[[   2   70  248 ...    0    0    0]\n",
      " [   2    4   53 ...    0    0    0]\n",
      " [   2    4 1077 ...    0    0    0]\n",
      " ...\n",
      " [   2    8    4 ...    0    0    0]\n",
      " [   2   44   17 ...    0    0    0]\n",
      " [   2    6  172 ...    0    0    0]] <keras_preprocessing.text.Tokenizer object at 0x7fbb34108410>\n"
     ]
    }
   ],
   "source": [
    "# 토큰화 할 때 텐서플로우의 Tokenizer와 pad_sequences를 사용\n",
    "# 더 잘 알기 위해 아래 문서들을 참고\n",
    "# https://www.tensorflow.org/api_docs/python/tf/keras/preprocessing/text/Tokenizer\n",
    "# https://www.tensorflow.org/api_docs/python/tf/keras/preprocessing/sequence/pad_sequences\n",
    "\n",
    "# 단어장의 크기는 12,000 이상으로 설정하기를 권장하여 13,000개로 설정하였다.\n",
    "def tokenize(corpus_ret):\n",
    "    tokenizer = tf.keras.preprocessing.text.Tokenizer(\n",
    "        num_words=13000,\n",
    "        filters=' ',\n",
    "        oov_token=\"<unk>\"\n",
    "    )\n",
    "    # corpus를 이용해 tokenizer 내부의 단어장 완성\n",
    "    tokenizer.fit_on_texts(corpus_ret)\n",
    "    # 준비한 tokenizer를 이용해 corpus를 Tensor로 변환\n",
    "    tensor = tokenizer.texts_to_sequences(corpus_ret)   \n",
    "    # 입력 데이터의 시퀀스 길이를 일정하게 맞추기\n",
    "    # 만약 시퀀스가 짧다면 문장 뒤에 패딩을 붙여 길이 맞추기\n",
    "    # 문장 앞에 패딩을 붙여 길이를 맞추고 싶다면 padding='pre' 사용\n",
    "    tensor = tf.keras.preprocessing.sequence.pad_sequences(tensor, padding='post')  \n",
    "    \n",
    "    print(tensor,tokenizer)\n",
    "    return tensor, tokenizer\n",
    "\n",
    "tensor, tokenizer = tokenize(corpus_ret)"
   ]
  },
  {
   "cell_type": "code",
   "execution_count": 17,
   "id": "fewer-roman",
   "metadata": {},
   "outputs": [
    {
     "name": "stdout",
     "output_type": "stream",
     "text": [
      "1 : <unk>\n",
      "2 : <start>\n",
      "3 : <end>\n",
      "4 : i\n",
      "5 : ,\n",
      "6 : the\n",
      "7 : you\n",
      "8 : and\n",
      "9 : a\n",
      "10 : to\n",
      "11 : it\n",
      "12 : me\n",
      "13 : my\n",
      "14 : in\n",
      "15 : that\n",
      "16 : t\n",
      "17 : s\n",
      "18 : on\n",
      "19 : your\n",
      "20 : of\n",
      "21 : we\n",
      "22 : .\n",
      "23 : like\n",
      "24 : m\n",
      "25 : all\n",
      "26 : is\n",
      "27 : be\n",
      "28 : for\n",
      "29 : up\n",
      "30 : with\n",
      "31 : so\n",
      "32 : just\n",
      "33 : but\n",
      "34 : know\n",
      "35 : can\n",
      "36 : love\n",
      "37 : got\n",
      "38 : they\n",
      "39 : what\n",
      "40 : don\n",
      "41 : this\n",
      "42 : no\n",
      "43 : get\n",
      "44 : she\n",
      "45 : when\n",
      "46 : ?\n",
      "47 : oh\n",
      "48 : do\n",
      "49 : yeah\n",
      "50 : now\n",
      "51 : if\n",
      "52 : baby\n",
      "53 : was\n",
      "54 : he\n",
      "55 : go\n",
      "56 : re\n",
      "57 : out\n",
      "58 : down\n",
      "59 : one\n",
      "60 : !\n"
     ]
    }
   ],
   "source": [
    "for idx in tokenizer.index_word:\n",
    "    print(idx, \":\", tokenizer.index_word[idx])\n",
    "\n",
    "    if idx >= 60: break"
   ]
  },
  {
   "cell_type": "code",
   "execution_count": 7,
   "id": "violent-shannon",
   "metadata": {},
   "outputs": [
    {
     "name": "stdout",
     "output_type": "stream",
     "text": [
      "[  2  70 248   4  53 708   3   0   0   0   0   0   0   0]\n",
      "[ 70 248   4  53 708   3   0   0   0   0   0   0   0   0]\n"
     ]
    }
   ],
   "source": [
    "# tensor에서 마지막 토큰을 잘라내서 소스 문장을 생성하자.\n",
    "# 마지막 토큰은 <end>가 아니라 <pad>일 가능성.\n",
    "src_input = tensor[:, :-1]  \n",
    "# tensor에서 <start>를 잘라내서 타겟 문장을 생성하자.\n",
    "tgt_input = tensor[:, 1:]    \n",
    "\n",
    "print(src_input[0])\n",
    "print(tgt_input[0])"
   ]
  },
  {
   "cell_type": "markdown",
   "id": "accurate-dining",
   "metadata": {},
   "source": [
    "### Part 2. 훈련 데이터, 테스트 데이터 분리 및 학습시키기"
   ]
  },
  {
   "cell_type": "markdown",
   "id": "personalized-botswana",
   "metadata": {},
   "source": [
    "#### 1) 훈련 데이터, 테스트 데이터 분리하기"
   ]
  },
  {
   "cell_type": "code",
   "execution_count": 8,
   "id": "cloudy-transaction",
   "metadata": {},
   "outputs": [],
   "source": [
    "from sklearn.model_selection import train_test_split\n",
    "\n",
    "source = src_input\n",
    "target = tgt_input\n",
    "enc_train, enc_val, dec_train, dec_val = train_test_split(source, target, test_size=0.2, shuffle=True, random_state=45)"
   ]
  },
  {
   "cell_type": "code",
   "execution_count": 9,
   "id": "talented-upper",
   "metadata": {},
   "outputs": [
    {
     "name": "stdout",
     "output_type": "stream",
     "text": [
      "Source Train: (124810, 14)\n",
      "Target Train: (124810, 14)\n"
     ]
    }
   ],
   "source": [
    "print(\"Source Train:\", enc_train.shape)\n",
    "print(\"Target Train:\", dec_train.shape)"
   ]
  },
  {
   "cell_type": "markdown",
   "id": "balanced-netscape",
   "metadata": {},
   "source": [
    "#### 2) tf.keras.Model Subclassing 적용하기"
   ]
  },
  {
   "cell_type": "code",
   "execution_count": 10,
   "id": "olympic-princeton",
   "metadata": {},
   "outputs": [],
   "source": [
    "class TextGenerator(tf.keras.Model):\n",
    "    def __init__(self, vocab_size, embedding_size, hidden_size):\n",
    "        super().__init__()\n",
    "        \n",
    "        self.embedding = tf.keras.layers.Embedding(vocab_size, embedding_size)\n",
    "        self.rnn_1 = tf.keras.layers.LSTM(hidden_size, return_sequences=True)\n",
    "        self.rnn_2 = tf.keras.layers.LSTM(hidden_size, return_sequences=True)\n",
    "        self.linear = tf.keras.layers.Dense(vocab_size)\n",
    "        \n",
    "    def call(self, x):\n",
    "        out = self.embedding(x)\n",
    "        out = self.rnn_1(out)\n",
    "        out = self.rnn_2(out)\n",
    "        out = self.linear(out)\n",
    "        \n",
    "        return out\n",
    "    \n",
    "embedding_size = 256\n",
    "hidden_size = 1024\n",
    "model = TextGenerator(tokenizer.num_words + 1, embedding_size , hidden_size)"
   ]
  },
  {
   "cell_type": "markdown",
   "id": "favorite-penny",
   "metadata": {},
   "source": [
    "#### 3) 모델 학습시키기"
   ]
  },
  {
   "cell_type": "code",
   "execution_count": 11,
   "id": "heavy-budapest",
   "metadata": {},
   "outputs": [
    {
     "name": "stdout",
     "output_type": "stream",
     "text": [
      "Epoch 1/6\n",
      "3901/3901 [==============================] - 309s 78ms/step - loss: 3.3918\n",
      "Epoch 2/6\n",
      "3901/3901 [==============================] - 304s 78ms/step - loss: 2.7381\n",
      "Epoch 3/6\n",
      "3901/3901 [==============================] - 304s 78ms/step - loss: 2.4531\n",
      "Epoch 4/6\n",
      "3901/3901 [==============================] - 303s 78ms/step - loss: 2.1875\n",
      "Epoch 5/6\n",
      "3901/3901 [==============================] - 303s 78ms/step - loss: 1.9603\n",
      "Epoch 6/6\n",
      "3901/3901 [==============================] - 304s 78ms/step - loss: 1.7624\n"
     ]
    },
    {
     "data": {
      "text/plain": [
       "<tensorflow.python.keras.callbacks.History at 0x7fbb2c4ab1d0>"
      ]
     },
     "execution_count": 11,
     "metadata": {},
     "output_type": "execute_result"
    }
   ],
   "source": [
    "optimizer = tf.keras.optimizers.Adam()\n",
    "loss = tf.keras.losses.SparseCategoricalCrossentropy(\n",
    "    from_logits=True, reduction='none')\n",
    "\n",
    "model.compile(loss=loss, optimizer=optimizer)\n",
    "model.fit(enc_train, dec_train, epochs=6)"
   ]
  },
  {
   "cell_type": "markdown",
   "id": "stylish-camera",
   "metadata": {},
   "source": [
    "### Part 3. 작사가 인공지능 성능 평가하기"
   ]
  },
  {
   "cell_type": "code",
   "execution_count": 12,
   "id": "intellectual-preview",
   "metadata": {},
   "outputs": [],
   "source": [
    "def generate_text(model, tokenizer, init_sentence=\"<start>\", max_len=20):\n",
    "    # 테스트를 위해서 입력받은 init_sentence도 텐서로 변환하자.\n",
    "    test_input = tokenizer.texts_to_sequences([init_sentence])\n",
    "    test_tensor = tf.convert_to_tensor(test_input, dtype=tf.int64)\n",
    "    end_token = tokenizer.word_index[\"<end>\"]\n",
    "\n",
    "    # 단어를 하나씩 예측해 문장을 만들자.\n",
    "    #    1. 입력받은 문장의 텐서를 입력하자.\n",
    "    #    2. 예측된 값 중 가장 높은 확률인 word index를 뽑아내자.\n",
    "    #    3. 2에서 예측된 word index를 문장 뒤에 붙이자.\n",
    "    #    4. 모델이 <end>를 예측했거나, max_len에 도달했다면 문장 생성을 끝내자.\n",
    "    while True:\n",
    "        # 1\n",
    "        predict = model(test_tensor) \n",
    "        # 2\n",
    "        predict_word = tf.argmax(tf.nn.softmax(predict, axis=-1), axis=-1)[:, -1] \n",
    "        # 3 \n",
    "        test_tensor = tf.concat([test_tensor, tf.expand_dims(predict_word, axis=0)], axis=-1)\n",
    "        # 4\n",
    "        if predict_word.numpy()[0] == end_token: break\n",
    "        if test_tensor.shape[1] >= max_len: break\n",
    "\n",
    "    generated = \"\"\n",
    "    # tokenizer를 이용해 word index를 단어로 하나씩 변환해주자. \n",
    "    for word_index in test_tensor[0].numpy():\n",
    "        generated += tokenizer.index_word[word_index] + \" \"\n",
    "\n",
    "    return generated"
   ]
  },
  {
   "cell_type": "code",
   "execution_count": 21,
   "id": "legislative-chase",
   "metadata": {},
   "outputs": [
    {
     "data": {
      "text/plain": [
       "'<start> you make me complete <end> '"
      ]
     },
     "execution_count": 21,
     "metadata": {},
     "output_type": "execute_result"
    }
   ],
   "source": [
    "generate_text(model, tokenizer, init_sentence=\"<start> you make\")"
   ]
  },
  {
   "cell_type": "markdown",
   "id": "mobile-skill",
   "metadata": {},
   "source": [
    "## ♠ 프로젝트 회고 및 평가 ♠"
   ]
  },
  {
   "cell_type": "markdown",
   "id": "ranging-columbus",
   "metadata": {},
   "source": [
    "### 1) 루브릭 평가항목 (노드 4-8)"
   ]
  },
  {
   "cell_type": "markdown",
   "id": "lonely-dublin",
   "metadata": {},
   "source": [
    "- A. 가사 텍스트 생성 모델이 정상적으로 동작하는지 : 텍스트 제너레이션 결과가 **그럴듯한 문장**을 만들었는가?\n",
    "- B. 데이터의 전처리 및 데이터셋 구성 과정이 체계적인지 : **특수문자 제거, 토크나이저 생성, 패딩처리 등의 문자처리 테크닉**을 활용했는가?\n",
    "- C. 텍스트 생성모델의 학습이 안정적인지 : 생성모델의 validation loss가 **10 epoch 이내 2.2 이하**를 만들어내는가?"
   ]
  },
  {
   "cell_type": "markdown",
   "id": "statewide-project",
   "metadata": {},
   "source": [
    "### 2) 평가항목에 대한 본인의 결과 및 회고"
   ]
  },
  {
   "cell_type": "markdown",
   "id": "neural-albuquerque",
   "metadata": {},
   "source": [
    "- A. 해당 주피터 노트북의 코드를 끝까지 돌려서 그럴듯한 문장을 만들어냈습니다. 대충 생성된 문장을 해석하면 '**당신은 나를 완전하게 만들어**' 라는 결과를 얻을 수 있었습니다.\n",
    "- B. 정규 표현식(Regex)을 활용하여 특수문자 및 공백 처리를 하고 토크나이저 함수를 생성하여 텍스트 생성모델이 필요할 때 적절한 토큰을 사용하게 하여 그럴듯한 문장을 만들어낼 수 있게 할 수 있습니다. 또한 문장의 길이를 균등하게 맞추는 차원에서 패딩을 할 수도 있습니다.\n",
    "- C. 사실 텍스트 생성모델을 학습시키는 데 시간을 많이 소비했던 것 같습니다. 사실 Exploration 4를 수행하면서 든 의문점에 대해 많은 분들께서 의견을 주셨는데, 가장 인상깊었던 의견은 https://keras.io/api/callbacks/early_stopping/ 링크에 나오는 keras의 callbacks에 기반해 **early_stopping 이라는 메서드를 사용해 원하는 결과가 나올 때 학습을 중단시킴으로서 학습에 걸리는 시간을 단축**시킬 수 있다는 부분이었습니다. 어쨌든 코드상으로는 4 epoch에 2.2 이하로 처음 내려오고 최종 6 epoch에서는 1.7624를 나타내어 해당 목표를 달성할 수 있었습니다!"
   ]
  },
  {
   "cell_type": "code",
   "execution_count": null,
   "id": "nonprofit-reflection",
   "metadata": {},
   "outputs": [],
   "source": []
  }
 ],
 "metadata": {
  "kernelspec": {
   "display_name": "Python 3",
   "language": "python",
   "name": "python3"
  },
  "language_info": {
   "codemirror_mode": {
    "name": "ipython",
    "version": 3
   },
   "file_extension": ".py",
   "mimetype": "text/x-python",
   "name": "python",
   "nbconvert_exporter": "python",
   "pygments_lexer": "ipython3",
   "version": "3.7.9"
  }
 },
 "nbformat": 4,
 "nbformat_minor": 5
}
