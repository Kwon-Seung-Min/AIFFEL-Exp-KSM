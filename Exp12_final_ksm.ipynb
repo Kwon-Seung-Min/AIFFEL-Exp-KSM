{
 "cells": [
  {
   "cell_type": "markdown",
   "id": "viral-subscriber",
   "metadata": {},
   "source": [
    "# 🎥 Exploration 12 Main Project : Movielens 영화 SBR 🎥"
   ]
  },
  {
   "cell_type": "markdown",
   "id": "cross-wichita",
   "metadata": {},
   "source": [
    "## 🥏 루브릭 살펴보기 🥏"
   ]
  },
  {
   "cell_type": "markdown",
   "id": "orange-heart",
   "metadata": {},
   "source": [
    "|루브릭 평가항목|세부기준|\n",
    "|------|---|\n",
    "|<span style=\"color:red\">**Movielens 데이터셋을 session based recommendation 관점으로 전처리하는 과정을 잘 녹여내었다.**</span>|데이터 셋의 면밀한 분석을 토대로 세션단위 정의 과정(길이분석, 시간분석)을 합리적으로 수행한 과정을 보여줄 것|\n",
    "|<span style=\"color:blue\">**RNN 기반의 예측 모델이 정상적으로 구성되어 안정적으로 훈련된다.**</span>|적절한 epoch만큼 학습이 진행되는 과정에서 train loss가 안정적으로 감소하고, validation 단계에서의 Recall, MRR이 개선될 것|\n",
    "|<span style=\"color:purple\">**세션정의, 모델구조, 하이퍼파라미터 등을 변경하여 Recall, MRR 등의 변화추이를 관찰했다.**</span>|3가지 이상의 변화를 시도하고 결과를 체계적으로 분석할 것|"
   ]
  },
  {
   "cell_type": "markdown",
   "id": "absent-pittsburgh",
   "metadata": {},
   "source": [
    "## 🎮 프로젝트 진행 순서 🎮"
   ]
  },
  {
   "cell_type": "markdown",
   "id": "featured-alabama",
   "metadata": {},
   "source": [
    "1. 목표 및 참고사항 확인\n",
    "2. 필요한 라이브러리 import\n",
    "3. 데이터 불러오기\n",
    "4. 데이터 전처리 I (Session Time 까지)\n",
    "5. 데이터 전처리 II (Data Cleansing~)\n",
    "6. 데이터 파이프라인 구축\n",
    "7. Modeling I (Model Architecture 까지)\n",
    "8. Modeling II (Model Training~)\n",
    "9. 초기 훈련결과 분석\n",
    "10. 특명 : 변화 추이 관찰\n",
    "11. 프로젝트 회고"
   ]
  },
  {
   "cell_type": "markdown",
   "id": "closing-transformation",
   "metadata": {},
   "source": [
    "## 1. 목표 및 참고사항 확인"
   ]
  },
  {
   "cell_type": "markdown",
   "id": "inclusive-terrorism",
   "metadata": {},
   "source": [
    "- **목표 : Movielens 1M Dataset을 기반으로 Session Based Recommendation 시스템을 구현하고 Recall, MRR 등의 변화추이를 분석한다.**\n",
    "- 이 데이터셋은 노드의 연습과정에서 사용했던 SessionID 대신 UserID 항목을 사용한다.\n",
    "- 이 데이터셋은 명확한 1회 세션의 SessionID를 포함하고 있지 않으므로, 본 프로젝트에서는 UserID가 SessionID의 역할을 담당하게 된다.\n",
    "- Rating 정보가 포함되어 있다. 직전에 봤던 영화가 마음에 들었는지의 여부가 비슷한 영화를 더 고르게 하는 것과 관련이 있을 수 있기 때문이다.\n",
    "- Rating이 낮은 데이터를 어떻게 처리할지 고민해보는 것도 좋다.\n",
    "- Time 항목에는 협정 세계시(UTC Time)가 포함되어 있으며 1970.01.01 부터 경과된 '초' 단위의 시간이 기재되어 있다."
   ]
  },
  {
   "cell_type": "markdown",
   "id": "frequent-panama",
   "metadata": {},
   "source": [
    "#### 참고 - 협정 세계시 (출처 : 네이버)"
   ]
  },
  {
   "attachments": {
    "12-1.PNG": {
     "image/png": "[encoded data removed]"
    }
   },
   "cell_type": "markdown",
   "id": "damaged-graduate",
   "metadata": {},
   "source": [
    "![12-1.PNG](attachment:12-1.PNG)"
   ]
  },
  {
   "cell_type": "markdown",
   "id": "static-appraisal",
   "metadata": {},
   "source": [
    "## 2. 필요한 라이브러리 import"
   ]
  },
  {
   "cell_type": "markdown",
   "id": "literary-jacob",
   "metadata": {},
   "source": [
    "- 이번 스텝에서는 프로젝트 수행에 필요한 라이브러리를 불러오는 작업만 진행한다.\n",
    "- 아래 코드에서 **pathlib**이라는 다소 생소한 라이브러리 이름이 나오는데.. 어떤 일을 하는지 알아보고 오는 것도 좋다!\n",
    "(https://brownbears.tistory.com/415#:~:text=pathlib%20%EC%84%A4%EB%AA%85,%EB%A1%9C%20%EB%8B%A4%EB%A3%A8%EC%9E%90%EB%8A%94%20%EA%B2%83%EC%9E%85%EB%8B%88%EB%8B%A4.&amp;text=pathlib%EC%9D%80%20%EC%8A%AC%EB%9E%98%EC%8B%9C(/)%EA%B0%80,%EC%A7%81%EA%B4%80%EC%A0%81%EC%9C%BC%EB%A1%9C%20%EC%9D%B4%ED%95%B4%ED%95%A0%20%EC%88%98%20%EC%9E%88%EC%8A%B5%EB%8B%88%EB%8B%A4)\n",
    "- pathlib 라이브러리는 **파일 시스템 경로를 객체로 다루는 것이 특징**이다."
   ]
  },
  {
   "cell_type": "code",
   "execution_count": 1,
   "id": "cultural-enough",
   "metadata": {},
   "outputs": [
    {
     "name": "stdout",
     "output_type": "stream",
     "text": [
      "라이브러리가 무사히 import 되었군요.\n"
     ]
    }
   ],
   "source": [
    "import datetime as dt\n",
    "from pathlib import Path\n",
    "import os\n",
    "\n",
    "import numpy as np\n",
    "import pandas as pd\n",
    "import warnings\n",
    "warnings.filterwarnings('ignore')\n",
    "\n",
    "print('라이브러리가 무사히 import 되었군요.')"
   ]
  },
  {
   "cell_type": "markdown",
   "id": "external-blanket",
   "metadata": {},
   "source": [
    "## 3. 데이터 불러오기"
   ]
  },
  {
   "cell_type": "markdown",
   "id": "reasonable-console",
   "metadata": {},
   "source": [
    "- 총 데이터 row 수가 무려 **100만 개가 넘는다!** 😅😅\n",
    "- 출력해 보면, index 순서대로 정렬되어 있지 않음을 알 수 있다.\n",
    "- 전체 데이터를 UserID와 Time 순서대로 정렬하기 때문에, **index는 순서대로 정렬되지 않는다.** 이것이 31, 22, 27, 37, 24 등과 같이 나타나는 이유이다."
   ]
  },
  {
   "cell_type": "code",
   "execution_count": 2,
   "id": "copyrighted-genesis",
   "metadata": {},
   "outputs": [
    {
     "data": {
      "text/html": [
       "<div>\n",
       "<style scoped>\n",
       "    .dataframe tbody tr th:only-of-type {\n",
       "        vertical-align: middle;\n",
       "    }\n",
       "\n",
       "    .dataframe tbody tr th {\n",
       "        vertical-align: top;\n",
       "    }\n",
       "\n",
       "    .dataframe thead th {\n",
       "        text-align: right;\n",
       "    }\n",
       "</style>\n",
       "<table border=\"1\" class=\"dataframe\">\n",
       "  <thead>\n",
       "    <tr style=\"text-align: right;\">\n",
       "      <th></th>\n",
       "      <th>UserId</th>\n",
       "      <th>ItemId</th>\n",
       "      <th>Rating</th>\n",
       "      <th>Time</th>\n",
       "    </tr>\n",
       "  </thead>\n",
       "  <tbody>\n",
       "    <tr>\n",
       "      <th>31</th>\n",
       "      <td>1</td>\n",
       "      <td>3186</td>\n",
       "      <td>4</td>\n",
       "      <td>978300019</td>\n",
       "    </tr>\n",
       "    <tr>\n",
       "      <th>22</th>\n",
       "      <td>1</td>\n",
       "      <td>1270</td>\n",
       "      <td>5</td>\n",
       "      <td>978300055</td>\n",
       "    </tr>\n",
       "    <tr>\n",
       "      <th>27</th>\n",
       "      <td>1</td>\n",
       "      <td>1721</td>\n",
       "      <td>4</td>\n",
       "      <td>978300055</td>\n",
       "    </tr>\n",
       "    <tr>\n",
       "      <th>37</th>\n",
       "      <td>1</td>\n",
       "      <td>1022</td>\n",
       "      <td>5</td>\n",
       "      <td>978300055</td>\n",
       "    </tr>\n",
       "    <tr>\n",
       "      <th>24</th>\n",
       "      <td>1</td>\n",
       "      <td>2340</td>\n",
       "      <td>3</td>\n",
       "      <td>978300103</td>\n",
       "    </tr>\n",
       "    <tr>\n",
       "      <th>...</th>\n",
       "      <td>...</td>\n",
       "      <td>...</td>\n",
       "      <td>...</td>\n",
       "      <td>...</td>\n",
       "    </tr>\n",
       "    <tr>\n",
       "      <th>1000019</th>\n",
       "      <td>6040</td>\n",
       "      <td>2917</td>\n",
       "      <td>4</td>\n",
       "      <td>997454429</td>\n",
       "    </tr>\n",
       "    <tr>\n",
       "      <th>999988</th>\n",
       "      <td>6040</td>\n",
       "      <td>1921</td>\n",
       "      <td>4</td>\n",
       "      <td>997454464</td>\n",
       "    </tr>\n",
       "    <tr>\n",
       "      <th>1000172</th>\n",
       "      <td>6040</td>\n",
       "      <td>1784</td>\n",
       "      <td>3</td>\n",
       "      <td>997454464</td>\n",
       "    </tr>\n",
       "    <tr>\n",
       "      <th>1000167</th>\n",
       "      <td>6040</td>\n",
       "      <td>161</td>\n",
       "      <td>3</td>\n",
       "      <td>997454486</td>\n",
       "    </tr>\n",
       "    <tr>\n",
       "      <th>1000042</th>\n",
       "      <td>6040</td>\n",
       "      <td>1221</td>\n",
       "      <td>4</td>\n",
       "      <td>998315055</td>\n",
       "    </tr>\n",
       "  </tbody>\n",
       "</table>\n",
       "<p>1000209 rows × 4 columns</p>\n",
       "</div>"
      ],
      "text/plain": [
       "         UserId  ItemId  Rating       Time\n",
       "31            1    3186       4  978300019\n",
       "22            1    1270       5  978300055\n",
       "27            1    1721       4  978300055\n",
       "37            1    1022       5  978300055\n",
       "24            1    2340       3  978300103\n",
       "...         ...     ...     ...        ...\n",
       "1000019    6040    2917       4  997454429\n",
       "999988     6040    1921       4  997454464\n",
       "1000172    6040    1784       3  997454464\n",
       "1000167    6040     161       3  997454486\n",
       "1000042    6040    1221       4  998315055\n",
       "\n",
       "[1000209 rows x 4 columns]"
      ]
     },
     "execution_count": 2,
     "metadata": {},
     "output_type": "execute_result"
    }
   ],
   "source": [
    "data_path = Path(os.getenv('HOME')+'/aiffel/yoochoose/data/') \n",
    "train_path = data_path / 'ratings.dat'\n",
    "\n",
    "def load_data(data_path: Path, nrows=None):\n",
    "    data = pd.read_csv(data_path, sep='::', header=None, usecols=[0, 1, 2, 3], dtype={0: np.int32, 1: np.int32, 2: np.int32}, nrows=nrows)\n",
    "    data.columns = ['UserId', 'ItemId', 'Rating', 'Time']\n",
    "    return data\n",
    "\n",
    "data = load_data(train_path, None)\n",
    "data.sort_values(['UserId', 'Time'], inplace=True)  # data를 id와 시간 순서로 정렬해줍니다.\n",
    "data"
   ]
  },
  {
   "cell_type": "markdown",
   "id": "finnish-farmer",
   "metadata": {},
   "source": [
    "- 목표에 의해 유저(or 세션) 수와 아이템 수, 시간의 수를 **nunique()** 메서드를 이용해 확인한다."
   ]
  },
  {
   "cell_type": "code",
   "execution_count": 3,
   "id": "adverse-phrase",
   "metadata": {},
   "outputs": [
    {
     "name": "stdout",
     "output_type": "stream",
     "text": [
      "Unique 한 유저의 수는 6040 개 입니다!\n",
      "Unique 한 영화의 수는 3706 개 입니다!\n",
      "Unique 한 시간의 수는 458455 개 입니다!\n"
     ]
    }
   ],
   "source": [
    "# 유저 수와 영화 수, 시간 수 확인\n",
    "print('Unique 한 유저의 수는', data['UserId'].nunique(), '개 입니다!')\n",
    "print('Unique 한 영화의 수는', data['ItemId'].nunique(), '개 입니다!')\n",
    "print('Unique 한 시간의 수는', data['Time'].nunique(), '개 입니다!')"
   ]
  },
  {
   "cell_type": "markdown",
   "id": "scenic-accreditation",
   "metadata": {},
   "source": [
    "## 4. 데이터 전처리 I"
   ]
  },
  {
   "cell_type": "markdown",
   "id": "scenic-diabetes",
   "metadata": {},
   "source": [
    "### 1) Session ID 정의"
   ]
  },
  {
   "cell_type": "markdown",
   "id": "important-officer",
   "metadata": {},
   "source": [
    "- 본 프로젝트에서는 SessionID 대신 UserID를 사용하고 있다.\n",
    "- UserID가 SessionID 역할을 할 수 있도록 **Session의 기준을 설정**한다."
   ]
  },
  {
   "cell_type": "code",
   "execution_count": 4,
   "id": "martial-authentication",
   "metadata": {},
   "outputs": [
    {
     "data": {
      "text/html": [
       "<div>\n",
       "<style scoped>\n",
       "    .dataframe tbody tr th:only-of-type {\n",
       "        vertical-align: middle;\n",
       "    }\n",
       "\n",
       "    .dataframe tbody tr th {\n",
       "        vertical-align: top;\n",
       "    }\n",
       "\n",
       "    .dataframe thead th {\n",
       "        text-align: right;\n",
       "    }\n",
       "</style>\n",
       "<table border=\"1\" class=\"dataframe\">\n",
       "  <thead>\n",
       "    <tr style=\"text-align: right;\">\n",
       "      <th></th>\n",
       "      <th>index</th>\n",
       "      <th>UserId</th>\n",
       "      <th>Time</th>\n",
       "      <th>ItemId</th>\n",
       "    </tr>\n",
       "  </thead>\n",
       "  <tbody>\n",
       "    <tr>\n",
       "      <th>0</th>\n",
       "      <td>0</td>\n",
       "      <td>1</td>\n",
       "      <td>978300019</td>\n",
       "      <td>1</td>\n",
       "    </tr>\n",
       "    <tr>\n",
       "      <th>1</th>\n",
       "      <td>1</td>\n",
       "      <td>1</td>\n",
       "      <td>978300055</td>\n",
       "      <td>3</td>\n",
       "    </tr>\n",
       "    <tr>\n",
       "      <th>2</th>\n",
       "      <td>2</td>\n",
       "      <td>1</td>\n",
       "      <td>978300103</td>\n",
       "      <td>1</td>\n",
       "    </tr>\n",
       "    <tr>\n",
       "      <th>3</th>\n",
       "      <td>3</td>\n",
       "      <td>1</td>\n",
       "      <td>978300172</td>\n",
       "      <td>1</td>\n",
       "    </tr>\n",
       "    <tr>\n",
       "      <th>4</th>\n",
       "      <td>4</td>\n",
       "      <td>1</td>\n",
       "      <td>978300275</td>\n",
       "      <td>1</td>\n",
       "    </tr>\n",
       "    <tr>\n",
       "      <th>...</th>\n",
       "      <td>...</td>\n",
       "      <td>...</td>\n",
       "      <td>...</td>\n",
       "      <td>...</td>\n",
       "    </tr>\n",
       "    <tr>\n",
       "      <th>471158</th>\n",
       "      <td>471158</td>\n",
       "      <td>6040</td>\n",
       "      <td>997454398</td>\n",
       "      <td>1</td>\n",
       "    </tr>\n",
       "    <tr>\n",
       "      <th>471159</th>\n",
       "      <td>471159</td>\n",
       "      <td>6040</td>\n",
       "      <td>997454429</td>\n",
       "      <td>1</td>\n",
       "    </tr>\n",
       "    <tr>\n",
       "      <th>471160</th>\n",
       "      <td>471160</td>\n",
       "      <td>6040</td>\n",
       "      <td>997454464</td>\n",
       "      <td>2</td>\n",
       "    </tr>\n",
       "    <tr>\n",
       "      <th>471161</th>\n",
       "      <td>471161</td>\n",
       "      <td>6040</td>\n",
       "      <td>997454486</td>\n",
       "      <td>1</td>\n",
       "    </tr>\n",
       "    <tr>\n",
       "      <th>471162</th>\n",
       "      <td>471162</td>\n",
       "      <td>6040</td>\n",
       "      <td>998315055</td>\n",
       "      <td>1</td>\n",
       "    </tr>\n",
       "  </tbody>\n",
       "</table>\n",
       "<p>471163 rows × 4 columns</p>\n",
       "</div>"
      ],
      "text/plain": [
       "         index  UserId       Time  ItemId\n",
       "0            0       1  978300019       1\n",
       "1            1       1  978300055       3\n",
       "2            2       1  978300103       1\n",
       "3            3       1  978300172       1\n",
       "4            4       1  978300275       1\n",
       "...        ...     ...        ...     ...\n",
       "471158  471158    6040  997454398       1\n",
       "471159  471159    6040  997454429       1\n",
       "471160  471160    6040  997454464       2\n",
       "471161  471161    6040  997454486       1\n",
       "471162  471162    6040  998315055       1\n",
       "\n",
       "[471163 rows x 4 columns]"
      ]
     },
     "execution_count": 4,
     "metadata": {},
     "output_type": "execute_result"
    }
   ],
   "source": [
    "# UserId와 Time을 기준으로 새로운 데이터프레임 생성\n",
    "df = data.groupby(['UserId', 'Time'])['ItemId'].count().reset_index()\n",
    "df.reset_index(inplace=True)\n",
    "df"
   ]
  },
  {
   "cell_type": "code",
   "execution_count": 5,
   "id": "protected-passage",
   "metadata": {},
   "outputs": [
    {
     "data": {
      "text/html": [
       "<div>\n",
       "<style scoped>\n",
       "    .dataframe tbody tr th:only-of-type {\n",
       "        vertical-align: middle;\n",
       "    }\n",
       "\n",
       "    .dataframe tbody tr th {\n",
       "        vertical-align: top;\n",
       "    }\n",
       "\n",
       "    .dataframe thead th {\n",
       "        text-align: right;\n",
       "    }\n",
       "</style>\n",
       "<table border=\"1\" class=\"dataframe\">\n",
       "  <thead>\n",
       "    <tr style=\"text-align: right;\">\n",
       "      <th></th>\n",
       "      <th>UserId</th>\n",
       "      <th>ItemId</th>\n",
       "      <th>Rating</th>\n",
       "      <th>Time</th>\n",
       "      <th>SessionId</th>\n",
       "    </tr>\n",
       "  </thead>\n",
       "  <tbody>\n",
       "    <tr>\n",
       "      <th>0</th>\n",
       "      <td>1</td>\n",
       "      <td>3186</td>\n",
       "      <td>4</td>\n",
       "      <td>978300019</td>\n",
       "      <td>0</td>\n",
       "    </tr>\n",
       "    <tr>\n",
       "      <th>1</th>\n",
       "      <td>1</td>\n",
       "      <td>1270</td>\n",
       "      <td>5</td>\n",
       "      <td>978300055</td>\n",
       "      <td>1</td>\n",
       "    </tr>\n",
       "    <tr>\n",
       "      <th>2</th>\n",
       "      <td>1</td>\n",
       "      <td>1721</td>\n",
       "      <td>4</td>\n",
       "      <td>978300055</td>\n",
       "      <td>1</td>\n",
       "    </tr>\n",
       "    <tr>\n",
       "      <th>3</th>\n",
       "      <td>1</td>\n",
       "      <td>1022</td>\n",
       "      <td>5</td>\n",
       "      <td>978300055</td>\n",
       "      <td>1</td>\n",
       "    </tr>\n",
       "    <tr>\n",
       "      <th>4</th>\n",
       "      <td>1</td>\n",
       "      <td>2340</td>\n",
       "      <td>3</td>\n",
       "      <td>978300103</td>\n",
       "      <td>2</td>\n",
       "    </tr>\n",
       "    <tr>\n",
       "      <th>...</th>\n",
       "      <td>...</td>\n",
       "      <td>...</td>\n",
       "      <td>...</td>\n",
       "      <td>...</td>\n",
       "      <td>...</td>\n",
       "    </tr>\n",
       "    <tr>\n",
       "      <th>1000204</th>\n",
       "      <td>6040</td>\n",
       "      <td>2917</td>\n",
       "      <td>4</td>\n",
       "      <td>997454429</td>\n",
       "      <td>471159</td>\n",
       "    </tr>\n",
       "    <tr>\n",
       "      <th>1000205</th>\n",
       "      <td>6040</td>\n",
       "      <td>1921</td>\n",
       "      <td>4</td>\n",
       "      <td>997454464</td>\n",
       "      <td>471160</td>\n",
       "    </tr>\n",
       "    <tr>\n",
       "      <th>1000206</th>\n",
       "      <td>6040</td>\n",
       "      <td>1784</td>\n",
       "      <td>3</td>\n",
       "      <td>997454464</td>\n",
       "      <td>471160</td>\n",
       "    </tr>\n",
       "    <tr>\n",
       "      <th>1000207</th>\n",
       "      <td>6040</td>\n",
       "      <td>161</td>\n",
       "      <td>3</td>\n",
       "      <td>997454486</td>\n",
       "      <td>471161</td>\n",
       "    </tr>\n",
       "    <tr>\n",
       "      <th>1000208</th>\n",
       "      <td>6040</td>\n",
       "      <td>1221</td>\n",
       "      <td>4</td>\n",
       "      <td>998315055</td>\n",
       "      <td>471162</td>\n",
       "    </tr>\n",
       "  </tbody>\n",
       "</table>\n",
       "<p>1000209 rows × 5 columns</p>\n",
       "</div>"
      ],
      "text/plain": [
       "         UserId  ItemId  Rating       Time  SessionId\n",
       "0             1    3186       4  978300019          0\n",
       "1             1    1270       5  978300055          1\n",
       "2             1    1721       4  978300055          1\n",
       "3             1    1022       5  978300055          1\n",
       "4             1    2340       3  978300103          2\n",
       "...         ...     ...     ...        ...        ...\n",
       "1000204    6040    2917       4  997454429     471159\n",
       "1000205    6040    1921       4  997454464     471160\n",
       "1000206    6040    1784       3  997454464     471160\n",
       "1000207    6040     161       3  997454486     471161\n",
       "1000208    6040    1221       4  998315055     471162\n",
       "\n",
       "[1000209 rows x 5 columns]"
      ]
     },
     "execution_count": 5,
     "metadata": {},
     "output_type": "execute_result"
    }
   ],
   "source": [
    "# SessionId 컬럼 추가\n",
    "data = pd.merge(data, df, on=['UserId', 'Time'])\n",
    "data.drop(columns='ItemId_y', inplace=True)\n",
    "data.columns = ['UserId', 'ItemId', 'Rating', 'Time', 'SessionId']\n",
    "data"
   ]
  },
  {
   "cell_type": "markdown",
   "id": "floral-animation",
   "metadata": {},
   "source": [
    "### 2) Session Length (세션단위 정의 과정 : 길이 분석)"
   ]
  },
  {
   "cell_type": "markdown",
   "id": "assisted-graham",
   "metadata": {},
   "source": [
    "- 위에서 설정한 SessionId를 가지고 몇 개의 영화에 평점을 남겼는지 살펴본다.\n",
    "- 아래 코드에서 session_length는 **같은 SessionId를 공유하는 데이터 행의 수**를 의미한다.\n",
    "- 위의 표를 보면 **SessionId가 1인 데이터 row의 수는 3**이므로 SessionId가 1일 때는 3으로 대응된다."
   ]
  },
  {
   "cell_type": "code",
   "execution_count": 6,
   "id": "distant-wealth",
   "metadata": {},
   "outputs": [
    {
     "data": {
      "text/plain": [
       "SessionId\n",
       "0         1\n",
       "1         3\n",
       "2         1\n",
       "3         1\n",
       "4         1\n",
       "         ..\n",
       "471158    1\n",
       "471159    1\n",
       "471160    2\n",
       "471161    1\n",
       "471162    1\n",
       "Length: 471163, dtype: int64"
      ]
     },
     "execution_count": 6,
     "metadata": {},
     "output_type": "execute_result"
    }
   ],
   "source": [
    "session_length = data.groupby('SessionId').size()\n",
    "session_length"
   ]
  },
  {
   "cell_type": "markdown",
   "id": "faced-paraguay",
   "metadata": {},
   "source": [
    "- 길이의 **중앙값(median)** 과 **평균(mean)** 을 알아본다."
   ]
  },
  {
   "cell_type": "code",
   "execution_count": 7,
   "id": "metric-batch",
   "metadata": {},
   "outputs": [
    {
     "data": {
      "text/plain": [
       "(2.0, 2.1228513274599234)"
      ]
     },
     "execution_count": 7,
     "metadata": {},
     "output_type": "execute_result"
    }
   ],
   "source": [
    "session_length.median(), session_length.mean()"
   ]
  },
  {
   "cell_type": "markdown",
   "id": "superior-irish",
   "metadata": {},
   "source": [
    "- 길이의 **최솟값(min)** 과 **최댓값(max)** 을 알아본다.\n",
    "- 모든 세션에서 최소 하나의 영화에 평점을 남겼으며, 많게는 30편의 영화에 평점을 남긴 세션도 있다."
   ]
  },
  {
   "cell_type": "code",
   "execution_count": 8,
   "id": "personalized-mouse",
   "metadata": {},
   "outputs": [
    {
     "data": {
      "text/plain": [
       "(1, 30)"
      ]
     },
     "execution_count": 8,
     "metadata": {},
     "output_type": "execute_result"
    }
   ],
   "source": [
    "session_length.min(), session_length.max()"
   ]
  },
  {
   "cell_type": "markdown",
   "id": "smaller-witness",
   "metadata": {},
   "source": [
    "- 평점을 준 횟수에 따른 세션의 수도 알아본다."
   ]
  },
  {
   "cell_type": "code",
   "execution_count": 9,
   "id": "monetary-bubble",
   "metadata": {},
   "outputs": [
    {
     "data": {
      "text/plain": [
       "1     226181\n",
       "2     110199\n",
       "3      62860\n",
       "4      34081\n",
       "5      18354\n",
       "6       9656\n",
       "7       5013\n",
       "8       2458\n",
       "9       1232\n",
       "10       661\n",
       "11       106\n",
       "12        83\n",
       "13        85\n",
       "14        48\n",
       "15        38\n",
       "16        29\n",
       "17        16\n",
       "18        13\n",
       "19         9\n",
       "20        14\n",
       "21         6\n",
       "22         7\n",
       "23         5\n",
       "25         2\n",
       "26         2\n",
       "27         2\n",
       "28         2\n",
       "30         1\n",
       "dtype: int64"
      ]
     },
     "execution_count": 9,
     "metadata": {},
     "output_type": "execute_result"
    }
   ],
   "source": [
    "length_count = session_length.groupby(session_length).size()\n",
    "length_count"
   ]
  },
  {
   "cell_type": "markdown",
   "id": "genuine-tenant",
   "metadata": {},
   "source": [
    "- **quantile(A)** 메서드로 (A×100)% 범위에 속하는 session_length가 얼마인지 알아본다.\n",
    "- quantile(A) 메서드에서 A에는 0과 1 사이의 값이 들어간다."
   ]
  },
  {
   "cell_type": "code",
   "execution_count": 10,
   "id": "robust-rehabilitation",
   "metadata": {},
   "outputs": [
    {
     "name": "stdout",
     "output_type": "stream",
     "text": [
      "전체의 95% 정도는 5.0 개의 영화에 평점을 남겼습니다.\n",
      "전체의 99% 정도는 8.0 개의 영화에 평점을 남겼습니다.\n",
      "전체의 99.9% 정도는 10.0 개의 영화에 평점을 남겼습니다.\n",
      "전체의 99.99% 정도는 19.0 개의 영화에 평점을 남겼습니다.\n"
     ]
    }
   ],
   "source": [
    "## 95%, 99%, 99.9%, 99.99%\n",
    "print('전체의 95% 정도는', session_length.quantile(0.95), '개의 영화에 평점을 남겼습니다.')         # 95 백분위수\n",
    "print('전체의 99% 정도는', session_length.quantile(0.99), '개의 영화에 평점을 남겼습니다.')         # 99 백분위수\n",
    "print('전체의 99.9% 정도는', session_length.quantile(0.999), '개의 영화에 평점을 남겼습니다.')      # 99.9 백분위수\n",
    "print('전체의 99.99% 정도는', session_length.quantile(0.9999), '개의 영화에 평점을 남겼습니다.')    # 99.99 백분위수"
   ]
  },
  {
   "cell_type": "markdown",
   "id": "outer-butterfly",
   "metadata": {},
   "source": [
    "- 전체 세션의 99.99%가 남긴 평점의 개수는 19개였다.\n",
    "- 길이가 최댓값 30인 세션 중 하나를 집어 살펴본다.\n",
    "- 실제로 index 값을 하나씩 바꾸어 본 결과, **index[1]에서부터 Error가 발생**하였다.\n",
    "- 따라서 평점을 남긴 영화의 편수가 30인 세션은 1개임을 알 수 있다.\n",
    "- 같은 방법으로 영화의 편수가 29인 세션은 없었으며, 28인 세션은 2개였다!"
   ]
  },
  {
   "cell_type": "code",
   "execution_count": 11,
   "id": "hundred-virgin",
   "metadata": {},
   "outputs": [
    {
     "data": {
      "text/html": [
       "<div>\n",
       "<style scoped>\n",
       "    .dataframe tbody tr th:only-of-type {\n",
       "        vertical-align: middle;\n",
       "    }\n",
       "\n",
       "    .dataframe tbody tr th {\n",
       "        vertical-align: top;\n",
       "    }\n",
       "\n",
       "    .dataframe thead th {\n",
       "        text-align: right;\n",
       "    }\n",
       "</style>\n",
       "<table border=\"1\" class=\"dataframe\">\n",
       "  <thead>\n",
       "    <tr style=\"text-align: right;\">\n",
       "      <th></th>\n",
       "      <th>UserId</th>\n",
       "      <th>ItemId</th>\n",
       "      <th>Rating</th>\n",
       "      <th>Time</th>\n",
       "      <th>SessionId</th>\n",
       "    </tr>\n",
       "  </thead>\n",
       "  <tbody>\n",
       "    <tr>\n",
       "      <th>112347</th>\n",
       "      <td>731</td>\n",
       "      <td>3044</td>\n",
       "      <td>4</td>\n",
       "      <td>975528402</td>\n",
       "      <td>55117</td>\n",
       "    </tr>\n",
       "    <tr>\n",
       "      <th>112348</th>\n",
       "      <td>731</td>\n",
       "      <td>1455</td>\n",
       "      <td>3</td>\n",
       "      <td>975528402</td>\n",
       "      <td>55117</td>\n",
       "    </tr>\n",
       "    <tr>\n",
       "      <th>112349</th>\n",
       "      <td>731</td>\n",
       "      <td>1639</td>\n",
       "      <td>5</td>\n",
       "      <td>975528402</td>\n",
       "      <td>55117</td>\n",
       "    </tr>\n",
       "    <tr>\n",
       "      <th>112350</th>\n",
       "      <td>731</td>\n",
       "      <td>3244</td>\n",
       "      <td>4</td>\n",
       "      <td>975528402</td>\n",
       "      <td>55117</td>\n",
       "    </tr>\n",
       "    <tr>\n",
       "      <th>112351</th>\n",
       "      <td>731</td>\n",
       "      <td>1656</td>\n",
       "      <td>2</td>\n",
       "      <td>975528402</td>\n",
       "      <td>55117</td>\n",
       "    </tr>\n",
       "    <tr>\n",
       "      <th>112352</th>\n",
       "      <td>731</td>\n",
       "      <td>3426</td>\n",
       "      <td>4</td>\n",
       "      <td>975528402</td>\n",
       "      <td>55117</td>\n",
       "    </tr>\n",
       "    <tr>\n",
       "      <th>112353</th>\n",
       "      <td>731</td>\n",
       "      <td>1829</td>\n",
       "      <td>2</td>\n",
       "      <td>975528402</td>\n",
       "      <td>55117</td>\n",
       "    </tr>\n",
       "    <tr>\n",
       "      <th>112354</th>\n",
       "      <td>731</td>\n",
       "      <td>2675</td>\n",
       "      <td>4</td>\n",
       "      <td>975528402</td>\n",
       "      <td>55117</td>\n",
       "    </tr>\n",
       "    <tr>\n",
       "      <th>112355</th>\n",
       "      <td>731</td>\n",
       "      <td>802</td>\n",
       "      <td>3</td>\n",
       "      <td>975528402</td>\n",
       "      <td>55117</td>\n",
       "    </tr>\n",
       "    <tr>\n",
       "      <th>112356</th>\n",
       "      <td>731</td>\n",
       "      <td>803</td>\n",
       "      <td>5</td>\n",
       "      <td>975528402</td>\n",
       "      <td>55117</td>\n",
       "    </tr>\n",
       "    <tr>\n",
       "      <th>112357</th>\n",
       "      <td>731</td>\n",
       "      <td>1357</td>\n",
       "      <td>4</td>\n",
       "      <td>975528402</td>\n",
       "      <td>55117</td>\n",
       "    </tr>\n",
       "    <tr>\n",
       "      <th>112358</th>\n",
       "      <td>731</td>\n",
       "      <td>838</td>\n",
       "      <td>5</td>\n",
       "      <td>975528402</td>\n",
       "      <td>55117</td>\n",
       "    </tr>\n",
       "    <tr>\n",
       "      <th>112359</th>\n",
       "      <td>731</td>\n",
       "      <td>2171</td>\n",
       "      <td>4</td>\n",
       "      <td>975528402</td>\n",
       "      <td>55117</td>\n",
       "    </tr>\n",
       "    <tr>\n",
       "      <th>112360</th>\n",
       "      <td>731</td>\n",
       "      <td>852</td>\n",
       "      <td>2</td>\n",
       "      <td>975528402</td>\n",
       "      <td>55117</td>\n",
       "    </tr>\n",
       "    <tr>\n",
       "      <th>112361</th>\n",
       "      <td>731</td>\n",
       "      <td>2331</td>\n",
       "      <td>4</td>\n",
       "      <td>975528402</td>\n",
       "      <td>55117</td>\n",
       "    </tr>\n",
       "    <tr>\n",
       "      <th>112362</th>\n",
       "      <td>731</td>\n",
       "      <td>1535</td>\n",
       "      <td>3</td>\n",
       "      <td>975528402</td>\n",
       "      <td>55117</td>\n",
       "    </tr>\n",
       "    <tr>\n",
       "      <th>112363</th>\n",
       "      <td>731</td>\n",
       "      <td>1393</td>\n",
       "      <td>2</td>\n",
       "      <td>975528402</td>\n",
       "      <td>55117</td>\n",
       "    </tr>\n",
       "    <tr>\n",
       "      <th>112364</th>\n",
       "      <td>731</td>\n",
       "      <td>1564</td>\n",
       "      <td>4</td>\n",
       "      <td>975528402</td>\n",
       "      <td>55117</td>\n",
       "    </tr>\n",
       "    <tr>\n",
       "      <th>112365</th>\n",
       "      <td>731</td>\n",
       "      <td>892</td>\n",
       "      <td>5</td>\n",
       "      <td>975528402</td>\n",
       "      <td>55117</td>\n",
       "    </tr>\n",
       "    <tr>\n",
       "      <th>112366</th>\n",
       "      <td>731</td>\n",
       "      <td>151</td>\n",
       "      <td>3</td>\n",
       "      <td>975528402</td>\n",
       "      <td>55117</td>\n",
       "    </tr>\n",
       "    <tr>\n",
       "      <th>112367</th>\n",
       "      <td>731</td>\n",
       "      <td>2715</td>\n",
       "      <td>2</td>\n",
       "      <td>975528402</td>\n",
       "      <td>55117</td>\n",
       "    </tr>\n",
       "    <tr>\n",
       "      <th>112368</th>\n",
       "      <td>731</td>\n",
       "      <td>2570</td>\n",
       "      <td>2</td>\n",
       "      <td>975528402</td>\n",
       "      <td>55117</td>\n",
       "    </tr>\n",
       "    <tr>\n",
       "      <th>112369</th>\n",
       "      <td>731</td>\n",
       "      <td>39</td>\n",
       "      <td>5</td>\n",
       "      <td>975528402</td>\n",
       "      <td>55117</td>\n",
       "    </tr>\n",
       "    <tr>\n",
       "      <th>112370</th>\n",
       "      <td>731</td>\n",
       "      <td>2919</td>\n",
       "      <td>4</td>\n",
       "      <td>975528402</td>\n",
       "      <td>55117</td>\n",
       "    </tr>\n",
       "    <tr>\n",
       "      <th>112371</th>\n",
       "      <td>731</td>\n",
       "      <td>49</td>\n",
       "      <td>4</td>\n",
       "      <td>975528402</td>\n",
       "      <td>55117</td>\n",
       "    </tr>\n",
       "    <tr>\n",
       "      <th>112372</th>\n",
       "      <td>731</td>\n",
       "      <td>58</td>\n",
       "      <td>4</td>\n",
       "      <td>975528402</td>\n",
       "      <td>55117</td>\n",
       "    </tr>\n",
       "    <tr>\n",
       "      <th>112373</th>\n",
       "      <td>731</td>\n",
       "      <td>1210</td>\n",
       "      <td>3</td>\n",
       "      <td>975528402</td>\n",
       "      <td>55117</td>\n",
       "    </tr>\n",
       "    <tr>\n",
       "      <th>112374</th>\n",
       "      <td>731</td>\n",
       "      <td>85</td>\n",
       "      <td>4</td>\n",
       "      <td>975528402</td>\n",
       "      <td>55117</td>\n",
       "    </tr>\n",
       "    <tr>\n",
       "      <th>112375</th>\n",
       "      <td>731</td>\n",
       "      <td>2969</td>\n",
       "      <td>4</td>\n",
       "      <td>975528402</td>\n",
       "      <td>55117</td>\n",
       "    </tr>\n",
       "    <tr>\n",
       "      <th>112376</th>\n",
       "      <td>731</td>\n",
       "      <td>1244</td>\n",
       "      <td>5</td>\n",
       "      <td>975528402</td>\n",
       "      <td>55117</td>\n",
       "    </tr>\n",
       "  </tbody>\n",
       "</table>\n",
       "</div>"
      ],
      "text/plain": [
       "        UserId  ItemId  Rating       Time  SessionId\n",
       "112347     731    3044       4  975528402      55117\n",
       "112348     731    1455       3  975528402      55117\n",
       "112349     731    1639       5  975528402      55117\n",
       "112350     731    3244       4  975528402      55117\n",
       "112351     731    1656       2  975528402      55117\n",
       "112352     731    3426       4  975528402      55117\n",
       "112353     731    1829       2  975528402      55117\n",
       "112354     731    2675       4  975528402      55117\n",
       "112355     731     802       3  975528402      55117\n",
       "112356     731     803       5  975528402      55117\n",
       "112357     731    1357       4  975528402      55117\n",
       "112358     731     838       5  975528402      55117\n",
       "112359     731    2171       4  975528402      55117\n",
       "112360     731     852       2  975528402      55117\n",
       "112361     731    2331       4  975528402      55117\n",
       "112362     731    1535       3  975528402      55117\n",
       "112363     731    1393       2  975528402      55117\n",
       "112364     731    1564       4  975528402      55117\n",
       "112365     731     892       5  975528402      55117\n",
       "112366     731     151       3  975528402      55117\n",
       "112367     731    2715       2  975528402      55117\n",
       "112368     731    2570       2  975528402      55117\n",
       "112369     731      39       5  975528402      55117\n",
       "112370     731    2919       4  975528402      55117\n",
       "112371     731      49       4  975528402      55117\n",
       "112372     731      58       4  975528402      55117\n",
       "112373     731    1210       3  975528402      55117\n",
       "112374     731      85       4  975528402      55117\n",
       "112375     731    2969       4  975528402      55117\n",
       "112376     731    1244       5  975528402      55117"
      ]
     },
     "execution_count": 11,
     "metadata": {},
     "output_type": "execute_result"
    }
   ],
   "source": [
    "long_session = session_length[session_length==30].index[0]\n",
    "data[data['SessionId']==long_session]"
   ]
  },
  {
   "cell_type": "code",
   "execution_count": 12,
   "id": "alleged-fever",
   "metadata": {},
   "outputs": [],
   "source": [
    "## 아래 코드는 에러입니다. 궁금하시면 주석을 풀고 돌려보세요!\n",
    "# long_session = session_length[session_length==30].index[1]\n",
    "# data[data['SessionId']==long_session]"
   ]
  },
  {
   "cell_type": "markdown",
   "id": "meaningful-senegal",
   "metadata": {},
   "source": [
    "- 아래 코드는 **session_length 기준 하위 99.9% 까지의 분포 누적합을 시각화**하여 보여준다.\n",
    "- **cumsum()** 메서드는 누적 합을 도출하는 메서드이다.\n",
    "- **'cum family'** : https://rfriend.tistory.com/231\n",
    "- 아래 코드를 해석하면 **session_length가 1인 데이터는 약 48%, 5 이하인 데이터는 약 95.86% 정도가 분포**하여 있음을 알 수 있다. 😉😉😉"
   ]
  },
  {
   "cell_type": "code",
   "execution_count": 13,
   "id": "optical-jenny",
   "metadata": {},
   "outputs": [
    {
     "data": {
      "text/plain": [
       "1    0.480048\n",
       "2    0.713936\n",
       "3    0.847350\n",
       "4    0.919684\n",
       "5    0.958639\n",
       "6    0.979132\n",
       "7    0.989772\n",
       "8    0.994989\n",
       "9    0.997604\n",
       "dtype: float64"
      ]
     },
     "execution_count": 13,
     "metadata": {},
     "output_type": "execute_result"
    }
   ],
   "source": [
    "## 분포 누적합\n",
    "length_count = session_length.groupby(session_length).size()\n",
    "length_percent_cumsum = length_count.cumsum() / length_count.sum()\n",
    "length_percent_cumsum_999 = length_percent_cumsum[length_percent_cumsum < 0.999]\n",
    "\n",
    "length_percent_cumsum_999"
   ]
  },
  {
   "cell_type": "code",
   "execution_count": 14,
   "id": "classified-steal",
   "metadata": {},
   "outputs": [
    {
     "data": {
      "image/png": "[encoded data removed]",
      "text/plain": [
       "<Figure size 720x360 with 1 Axes>"
      ]
     },
     "metadata": {
      "needs_background": "light"
     },
     "output_type": "display_data"
    }
   ],
   "source": [
    "## 전체 분포 누적합 시각화\n",
    "import matplotlib.pyplot as plt\n",
    "\n",
    "plt.figure(figsize=(10, 5))\n",
    "plt.bar(x=length_percent_cumsum.index,\n",
    "        height=length_percent_cumsum, color='green')\n",
    "plt.xticks(length_percent_cumsum.index)\n",
    "plt.yticks(np.arange(0, 1.01, 0.05))\n",
    "plt.title('Cumsum Percentage (Entire)', size=20)\n",
    "plt.show()"
   ]
  },
  {
   "cell_type": "code",
   "execution_count": 15,
   "id": "hazardous-shadow",
   "metadata": {},
   "outputs": [
    {
     "data": {
      "image/png": "[encoded data removed]",
      "text/plain": [
       "<Figure size 720x360 with 1 Axes>"
      ]
     },
     "metadata": {
      "needs_background": "light"
     },
     "output_type": "display_data"
    }
   ],
   "source": [
    "## 하위 99.9%까지의 분포 누적합 시각화\n",
    "import matplotlib.pyplot as plt\n",
    "\n",
    "plt.figure(figsize=(10, 5))\n",
    "plt.bar(x=length_percent_cumsum_999.index,\n",
    "        height=length_percent_cumsum_999, color='deeppink')\n",
    "plt.xticks(length_percent_cumsum_999.index)\n",
    "plt.yticks(np.arange(0, 1.01, 0.05))\n",
    "plt.title('Cumsum Percentage (~99.9%)', size=20)\n",
    "plt.show()"
   ]
  },
  {
   "cell_type": "markdown",
   "id": "julian-chance",
   "metadata": {},
   "source": [
    "### 3) Session Time (세션단위 정의 과정 : 시간 분석)"
   ]
  },
  {
   "cell_type": "markdown",
   "id": "minute-homework",
   "metadata": {},
   "source": [
    "- 우리가 다루려고 하는 데이터의 시간단위 정보를 살펴본다."
   ]
  },
  {
   "cell_type": "code",
   "execution_count": 16,
   "id": "greatest-columbus",
   "metadata": {},
   "outputs": [
    {
     "name": "stdout",
     "output_type": "stream",
     "text": [
      "956703932\n",
      "1046454590\n"
     ]
    }
   ],
   "source": [
    "oldest, latest = data['Time'].min(), data['Time'].max()  # Time 데이터의 초단위 최솟값, 최댓값\n",
    "print(oldest)\n",
    "print(latest)"
   ]
  },
  {
   "cell_type": "code",
   "execution_count": 17,
   "id": "difficult-karma",
   "metadata": {},
   "outputs": [
    {
     "name": "stdout",
     "output_type": "stream",
     "text": [
      "2000-04-25 23:05:32\n",
      "2003-02-28 17:49:50\n"
     ]
    }
   ],
   "source": [
    "print(dt.datetime.utcfromtimestamp(oldest).strftime('%Y-%m-%d %H:%M:%S'))   # oldest 값에 대한 협정 세계시\n",
    "print(dt.datetime.utcfromtimestamp(latest).strftime('%Y-%m-%d %H:%M:%S'))   # latest 값에 대한 협정 세계시"
   ]
  },
  {
   "cell_type": "markdown",
   "id": "clinical-clear",
   "metadata": {},
   "source": [
    "- 아래 코드에서 86400의 의미는 **1일을 '초(second)' 단위로 환산한 값**이다. (24×60×60)"
   ]
  },
  {
   "cell_type": "code",
   "execution_count": 18,
   "id": "several-marketplace",
   "metadata": {},
   "outputs": [
    {
     "name": "stdout",
     "output_type": "stream",
     "text": [
      "최근 3년간 Time 데이터 수는 1000209 입니다.\n",
      "최근 2년간 Time 데이터 수는 69349 입니다.\n",
      "최근 1년간 Time 데이터 수는 21704 입니다.\n"
     ]
    }
   ],
   "source": [
    "print('최근 3년간 Time 데이터 수는', len(data[data['Time'] > latest - (86400*365*3)]), '입니다.')\n",
    "print('최근 2년간 Time 데이터 수는', len(data[data['Time'] > latest - (86400*365*2)]), '입니다.')\n",
    "print('최근 1년간 Time 데이터 수는', len(data[data['Time'] > latest - (86400*365*1)]), '입니다.')"
   ]
  },
  {
   "cell_type": "markdown",
   "id": "floral-crazy",
   "metadata": {},
   "source": [
    "- 앞에서 살펴본 session_length 분포를 생각해보면, session_length가 작은 쪽으로 몰려있었음을 알 수 있다.\n",
    "- 원래 추천시스템 구축에서는 최신의 트렌드를 반영하는 것이 효과적이긴 하나, 분포적 특성에 의해 여기서는 사실상 모든 데이터셋을 사용한다."
   ]
  },
  {
   "cell_type": "code",
   "execution_count": 19,
   "id": "complimentary-commons",
   "metadata": {},
   "outputs": [
    {
     "data": {
      "text/html": [
       "<div>\n",
       "<style scoped>\n",
       "    .dataframe tbody tr th:only-of-type {\n",
       "        vertical-align: middle;\n",
       "    }\n",
       "\n",
       "    .dataframe tbody tr th {\n",
       "        vertical-align: top;\n",
       "    }\n",
       "\n",
       "    .dataframe thead th {\n",
       "        text-align: right;\n",
       "    }\n",
       "</style>\n",
       "<table border=\"1\" class=\"dataframe\">\n",
       "  <thead>\n",
       "    <tr style=\"text-align: right;\">\n",
       "      <th></th>\n",
       "      <th>UserId</th>\n",
       "      <th>ItemId</th>\n",
       "      <th>Rating</th>\n",
       "      <th>Time</th>\n",
       "      <th>SessionId</th>\n",
       "    </tr>\n",
       "  </thead>\n",
       "  <tbody>\n",
       "    <tr>\n",
       "      <th>0</th>\n",
       "      <td>1</td>\n",
       "      <td>3186</td>\n",
       "      <td>4</td>\n",
       "      <td>978300019</td>\n",
       "      <td>0</td>\n",
       "    </tr>\n",
       "    <tr>\n",
       "      <th>1</th>\n",
       "      <td>1</td>\n",
       "      <td>1270</td>\n",
       "      <td>5</td>\n",
       "      <td>978300055</td>\n",
       "      <td>1</td>\n",
       "    </tr>\n",
       "    <tr>\n",
       "      <th>2</th>\n",
       "      <td>1</td>\n",
       "      <td>1721</td>\n",
       "      <td>4</td>\n",
       "      <td>978300055</td>\n",
       "      <td>1</td>\n",
       "    </tr>\n",
       "    <tr>\n",
       "      <th>3</th>\n",
       "      <td>1</td>\n",
       "      <td>1022</td>\n",
       "      <td>5</td>\n",
       "      <td>978300055</td>\n",
       "      <td>1</td>\n",
       "    </tr>\n",
       "    <tr>\n",
       "      <th>4</th>\n",
       "      <td>1</td>\n",
       "      <td>2340</td>\n",
       "      <td>3</td>\n",
       "      <td>978300103</td>\n",
       "      <td>2</td>\n",
       "    </tr>\n",
       "    <tr>\n",
       "      <th>...</th>\n",
       "      <td>...</td>\n",
       "      <td>...</td>\n",
       "      <td>...</td>\n",
       "      <td>...</td>\n",
       "      <td>...</td>\n",
       "    </tr>\n",
       "    <tr>\n",
       "      <th>1000204</th>\n",
       "      <td>6040</td>\n",
       "      <td>2917</td>\n",
       "      <td>4</td>\n",
       "      <td>997454429</td>\n",
       "      <td>471159</td>\n",
       "    </tr>\n",
       "    <tr>\n",
       "      <th>1000205</th>\n",
       "      <td>6040</td>\n",
       "      <td>1921</td>\n",
       "      <td>4</td>\n",
       "      <td>997454464</td>\n",
       "      <td>471160</td>\n",
       "    </tr>\n",
       "    <tr>\n",
       "      <th>1000206</th>\n",
       "      <td>6040</td>\n",
       "      <td>1784</td>\n",
       "      <td>3</td>\n",
       "      <td>997454464</td>\n",
       "      <td>471160</td>\n",
       "    </tr>\n",
       "    <tr>\n",
       "      <th>1000207</th>\n",
       "      <td>6040</td>\n",
       "      <td>161</td>\n",
       "      <td>3</td>\n",
       "      <td>997454486</td>\n",
       "      <td>471161</td>\n",
       "    </tr>\n",
       "    <tr>\n",
       "      <th>1000208</th>\n",
       "      <td>6040</td>\n",
       "      <td>1221</td>\n",
       "      <td>4</td>\n",
       "      <td>998315055</td>\n",
       "      <td>471162</td>\n",
       "    </tr>\n",
       "  </tbody>\n",
       "</table>\n",
       "<p>1000209 rows × 5 columns</p>\n",
       "</div>"
      ],
      "text/plain": [
       "         UserId  ItemId  Rating       Time  SessionId\n",
       "0             1    3186       4  978300019          0\n",
       "1             1    1270       5  978300055          1\n",
       "2             1    1721       4  978300055          1\n",
       "3             1    1022       5  978300055          1\n",
       "4             1    2340       3  978300103          2\n",
       "...         ...     ...     ...        ...        ...\n",
       "1000204    6040    2917       4  997454429     471159\n",
       "1000205    6040    1921       4  997454464     471160\n",
       "1000206    6040    1784       3  997454464     471160\n",
       "1000207    6040     161       3  997454486     471161\n",
       "1000208    6040    1221       4  998315055     471162\n",
       "\n",
       "[1000209 rows x 5 columns]"
      ]
     },
     "execution_count": 19,
     "metadata": {},
     "output_type": "execute_result"
    }
   ],
   "source": [
    "years_ago = latest - (86400*365*3)   # 최종 날짜로부터 3년 이전 날짜를 구한다.  \n",
    "data = data[data['Time'] > years_ago]   # 방금 구한 날짜 이후의 데이터만 모은다. \n",
    "data"
   ]
  },
  {
   "cell_type": "markdown",
   "id": "gross-flower",
   "metadata": {},
   "source": [
    "## 5. 데이터 전처리 II"
   ]
  },
  {
   "cell_type": "markdown",
   "id": "animal-arbor",
   "metadata": {},
   "source": [
    "### 1) Data Cleansing"
   ]
  },
  {
   "cell_type": "markdown",
   "id": "secure-survivor",
   "metadata": {},
   "source": [
    "- Data Cleansing 단계의 아이디어 : **Rating이 낮은 데이터를 어떻게 처리할 것인가?**\n",
    "- 우선, Rating 데이터 또한 매우 많으니, Rating의 최솟값과 최댓값부터 구해보자."
   ]
  },
  {
   "cell_type": "code",
   "execution_count": 20,
   "id": "adult-translation",
   "metadata": {},
   "outputs": [
    {
     "name": "stdout",
     "output_type": "stream",
     "text": [
      "유저가 준 평점의 최솟값은 1 점입니다.\n",
      "유저가 준 평점의 최댓값은 5 점입니다.\n"
     ]
    }
   ],
   "source": [
    "print('유저가 준 평점의 최솟값은', data['Rating'].min(), '점입니다.')\n",
    "print('유저가 준 평점의 최댓값은', data['Rating'].max(), '점입니다.')"
   ]
  },
  {
   "cell_type": "markdown",
   "id": "annual-appointment",
   "metadata": {},
   "source": [
    "- Rating의 값이 일정 수준 이상인 데이터의 개수를 살펴본다."
   ]
  },
  {
   "cell_type": "code",
   "execution_count": 21,
   "id": "abstract-country",
   "metadata": {},
   "outputs": [
    {
     "name": "stdout",
     "output_type": "stream",
     "text": [
      "1000209\n",
      "944035\n",
      "836478\n",
      "575281\n",
      "226310\n"
     ]
    }
   ],
   "source": [
    "print(len(data[data['Rating'] >= 1]))   # 평점의 최솟값이 1이므로 Entire Data의 개수가 나온다.\n",
    "print(len(data[data['Rating'] >= 2]))   # 평점이 2점 이상인 데이터의 총 개수\n",
    "print(len(data[data['Rating'] >= 3]))   # 평점이 3점 이상인 데이터의 총 개수\n",
    "print(len(data[data['Rating'] >= 4]))   # 평점이 4점 이상인 데이터의 총 개수\n",
    "print(len(data[data['Rating'] >= 5]))   # 평점의 최댓값을 준 데이터의 개수이다."
   ]
  },
  {
   "cell_type": "code",
   "execution_count": 22,
   "id": "other-ensemble",
   "metadata": {},
   "outputs": [
    {
     "data": {
      "text/html": [
       "<div>\n",
       "<style scoped>\n",
       "    .dataframe tbody tr th:only-of-type {\n",
       "        vertical-align: middle;\n",
       "    }\n",
       "\n",
       "    .dataframe tbody tr th {\n",
       "        vertical-align: top;\n",
       "    }\n",
       "\n",
       "    .dataframe thead th {\n",
       "        text-align: right;\n",
       "    }\n",
       "</style>\n",
       "<table border=\"1\" class=\"dataframe\">\n",
       "  <thead>\n",
       "    <tr style=\"text-align: right;\">\n",
       "      <th></th>\n",
       "      <th>SessionId</th>\n",
       "      <th>UserId</th>\n",
       "      <th>Time</th>\n",
       "      <th>ItemId</th>\n",
       "      <th>Rating</th>\n",
       "    </tr>\n",
       "  </thead>\n",
       "  <tbody>\n",
       "    <tr>\n",
       "      <th>0</th>\n",
       "      <td>0</td>\n",
       "      <td>1</td>\n",
       "      <td>978300019</td>\n",
       "      <td>3186</td>\n",
       "      <td>4</td>\n",
       "    </tr>\n",
       "    <tr>\n",
       "      <th>1</th>\n",
       "      <td>1</td>\n",
       "      <td>1</td>\n",
       "      <td>978300055</td>\n",
       "      <td>1270</td>\n",
       "      <td>5</td>\n",
       "    </tr>\n",
       "    <tr>\n",
       "      <th>2</th>\n",
       "      <td>1</td>\n",
       "      <td>1</td>\n",
       "      <td>978300055</td>\n",
       "      <td>1721</td>\n",
       "      <td>4</td>\n",
       "    </tr>\n",
       "    <tr>\n",
       "      <th>3</th>\n",
       "      <td>1</td>\n",
       "      <td>1</td>\n",
       "      <td>978300055</td>\n",
       "      <td>1022</td>\n",
       "      <td>5</td>\n",
       "    </tr>\n",
       "    <tr>\n",
       "      <th>4</th>\n",
       "      <td>2</td>\n",
       "      <td>1</td>\n",
       "      <td>978300103</td>\n",
       "      <td>2340</td>\n",
       "      <td>3</td>\n",
       "    </tr>\n",
       "    <tr>\n",
       "      <th>...</th>\n",
       "      <td>...</td>\n",
       "      <td>...</td>\n",
       "      <td>...</td>\n",
       "      <td>...</td>\n",
       "      <td>...</td>\n",
       "    </tr>\n",
       "    <tr>\n",
       "      <th>1000204</th>\n",
       "      <td>471159</td>\n",
       "      <td>6040</td>\n",
       "      <td>997454429</td>\n",
       "      <td>2917</td>\n",
       "      <td>4</td>\n",
       "    </tr>\n",
       "    <tr>\n",
       "      <th>1000205</th>\n",
       "      <td>471160</td>\n",
       "      <td>6040</td>\n",
       "      <td>997454464</td>\n",
       "      <td>1921</td>\n",
       "      <td>4</td>\n",
       "    </tr>\n",
       "    <tr>\n",
       "      <th>1000206</th>\n",
       "      <td>471160</td>\n",
       "      <td>6040</td>\n",
       "      <td>997454464</td>\n",
       "      <td>1784</td>\n",
       "      <td>3</td>\n",
       "    </tr>\n",
       "    <tr>\n",
       "      <th>1000207</th>\n",
       "      <td>471161</td>\n",
       "      <td>6040</td>\n",
       "      <td>997454486</td>\n",
       "      <td>161</td>\n",
       "      <td>3</td>\n",
       "    </tr>\n",
       "    <tr>\n",
       "      <th>1000208</th>\n",
       "      <td>471162</td>\n",
       "      <td>6040</td>\n",
       "      <td>998315055</td>\n",
       "      <td>1221</td>\n",
       "      <td>4</td>\n",
       "    </tr>\n",
       "  </tbody>\n",
       "</table>\n",
       "<p>836478 rows × 5 columns</p>\n",
       "</div>"
      ],
      "text/plain": [
       "         SessionId  UserId       Time  ItemId  Rating\n",
       "0                0       1  978300019    3186       4\n",
       "1                1       1  978300055    1270       5\n",
       "2                1       1  978300055    1721       4\n",
       "3                1       1  978300055    1022       5\n",
       "4                2       1  978300103    2340       3\n",
       "...            ...     ...        ...     ...     ...\n",
       "1000204     471159    6040  997454429    2917       4\n",
       "1000205     471160    6040  997454464    1921       4\n",
       "1000206     471160    6040  997454464    1784       3\n",
       "1000207     471161    6040  997454486     161       3\n",
       "1000208     471162    6040  998315055    1221       4\n",
       "\n",
       "[836478 rows x 5 columns]"
      ]
     },
     "execution_count": 22,
     "metadata": {},
     "output_type": "execute_result"
    }
   ],
   "source": [
    "data = data[data['Rating'] >= 3]\n",
    "data = data[['SessionId', 'UserId', 'Time', 'ItemId', 'Rating']]\n",
    "data"
   ]
  },
  {
   "cell_type": "markdown",
   "id": "honey-investigation",
   "metadata": {},
   "source": [
    "### 2) 훈련 데이터, 테스트 데이터, 검증 데이터 나누기"
   ]
  },
  {
   "cell_type": "markdown",
   "id": "interested-christianity",
   "metadata": {},
   "source": [
    "- 전체 데이터에서 **맨 마지막 날로부터 120일까지**를 **test set**로 정의한다.\n",
    "- 전체 데이터에서 **맨 마지막 날로부터 240일까지 데이터 중 test set이 아닌 데이터**를 **validation set**로 정의한다."
   ]
  },
  {
   "cell_type": "code",
   "execution_count": 23,
   "id": "aggressive-sociology",
   "metadata": {},
   "outputs": [],
   "source": [
    "def split_by_date(data: pd.DataFrame, n_days: int):\n",
    "    final_time = data['Time'].max()\n",
    "    session_last_time = data.groupby('SessionId')['Time'].max()\n",
    "    session_in_train = session_last_time[session_last_time < final_time - (86400*n_days)].index\n",
    "    session_in_test = session_last_time[session_last_time >= final_time - (86400*n_days)].index\n",
    "\n",
    "    before_date = data[data['SessionId'].isin(session_in_train)]\n",
    "    after_date = data[data['SessionId'].isin(session_in_test)]\n",
    "    after_date = after_date[after_date['ItemId'].isin(before_date['ItemId'])]\n",
    "    return before_date, after_date"
   ]
  },
  {
   "cell_type": "code",
   "execution_count": 24,
   "id": "registered-karma",
   "metadata": {},
   "outputs": [],
   "source": [
    "tr, test = split_by_date(data, n_days=120)\n",
    "tr, val = split_by_date(tr, n_days=120)"
   ]
  },
  {
   "cell_type": "markdown",
   "id": "twelve-active",
   "metadata": {},
   "source": [
    "- 나누어진 세 종류의 데이터에 대한 정보를 살펴보기 위해 함수 정의를 활용한다."
   ]
  },
  {
   "cell_type": "code",
   "execution_count": 25,
   "id": "destroyed-library",
   "metadata": {},
   "outputs": [],
   "source": [
    "def stats_info(data: pd.DataFrame, status: str):\n",
    "    first_time = dt.datetime.utcfromtimestamp(data[\"Time\"].min()).strftime('%Y-%m-%d %H:%M:%S')\n",
    "    last_time = dt.datetime.utcfromtimestamp(data[\"Time\"].max()).strftime('%Y-%m-%d %H:%M:%S')\n",
    "    print(f'* {status} Set Stats Info\\n'\n",
    "          f'\\t Events: {len(data)}\\n'\n",
    "          f'\\t Sessions: {data[\"UserId\"].nunique()}\\n'\n",
    "          f'\\t Items: {data[\"ItemId\"].nunique()}\\n'\n",
    "          f'\\t First Time : {first_time}\\n'\n",
    "          f'\\t Last Time : {last_time}\\n')"
   ]
  },
  {
   "cell_type": "code",
   "execution_count": 26,
   "id": "average-serbia",
   "metadata": {},
   "outputs": [
    {
     "name": "stdout",
     "output_type": "stream",
     "text": [
      "* train Set Stats Info\n",
      "\t Events: 826182\n",
      "\t Sessions: 6038\n",
      "\t Items: 3622\n",
      "\t First Time : 2000-04-25 23:05:32\n",
      "\t Last Time : 2002-07-03 16:04:32\n",
      "\n",
      "* valid Set Stats Info\n",
      "\t Events: 4939\n",
      "\t Sessions: 269\n",
      "\t Items: 1826\n",
      "\t First Time : 2002-07-03 17:31:04\n",
      "\t Last Time : 2002-10-31 16:33:08\n",
      "\n",
      "* test Set Stats Info\n",
      "\t Events: 5351\n",
      "\t Sessions: 271\n",
      "\t Items: 1809\n",
      "\t First Time : 2002-10-31 19:58:49\n",
      "\t Last Time : 2003-02-28 17:49:50\n",
      "\n"
     ]
    }
   ],
   "source": [
    "stats_info(tr, 'train')\n",
    "stats_info(val, 'valid')\n",
    "stats_info(test, 'test')"
   ]
  },
  {
   "cell_type": "markdown",
   "id": "collective-copying",
   "metadata": {},
   "source": [
    "- train set에 없는 아이템이 validation이나 test 기간에 생길 수도 있어서 train data를 기준으로 인덱싱한다."
   ]
  },
  {
   "cell_type": "code",
   "execution_count": 27,
   "id": "general-scout",
   "metadata": {},
   "outputs": [],
   "source": [
    "id2idx = {item_id : index for index, item_id in enumerate(tr['ItemId'].unique())}\n",
    "\n",
    "def indexing(df, id2idx):\n",
    "    df['item_idx'] = df['ItemId'].map(lambda x: id2idx.get(x, -1))  # id2idx에 없는 아이템은 모르는 값으로(-1) 처리\n",
    "    return df\n",
    "\n",
    "tr = indexing(tr, id2idx)\n",
    "val = indexing(val, id2idx)\n",
    "test = indexing(test, id2idx)"
   ]
  },
  {
   "cell_type": "markdown",
   "id": "wicked-joint",
   "metadata": {},
   "source": [
    "- 데이터 준비 및 전처리를 마무리하고 지금까지의 데이터를 저장한다!"
   ]
  },
  {
   "cell_type": "code",
   "execution_count": 28,
   "id": "tender-rogers",
   "metadata": {},
   "outputs": [],
   "source": [
    "save_path = data_path / 'processed'\n",
    "save_path.mkdir(parents=True, exist_ok=True)\n",
    "\n",
    "tr.to_pickle(save_path / 'train.pkl')\n",
    "val.to_pickle(save_path / 'valid.pkl')\n",
    "test.to_pickle(save_path / 'test.pkl')"
   ]
  },
  {
   "cell_type": "markdown",
   "id": "express-flush",
   "metadata": {},
   "source": [
    "## 6. 데이터 파이프라인 구축"
   ]
  },
  {
   "cell_type": "markdown",
   "id": "speaking-change",
   "metadata": {},
   "source": [
    "### 1) SessionDataset"
   ]
  },
  {
   "cell_type": "markdown",
   "id": "external-format",
   "metadata": {},
   "source": [
    "- 이 과정은 **Session-Parallel Mini-Batch를 구현하는 과정**이라고 이해하면 된다."
   ]
  },
  {
   "cell_type": "code",
   "execution_count": 29,
   "id": "brave-discount",
   "metadata": {},
   "outputs": [],
   "source": [
    "class SessionDataset:\n",
    "    \"\"\"Credit to yhs-968/pyGRU4REC.\"\"\"\n",
    "\n",
    "    def __init__(self, data):\n",
    "        self.df = data\n",
    "        self.click_offsets = self.get_click_offsets()\n",
    "        self.session_idx = np.arange(self.df['SessionId'].nunique())  # indexing to SessionId\n",
    "\n",
    "    def get_click_offsets(self):\n",
    "        \"\"\"\n",
    "        Return the indexes of the first click of each session IDs,\n",
    "        \"\"\"\n",
    "        offsets = np.zeros(self.df['SessionId'].nunique() + 1, dtype=np.int32)\n",
    "        offsets[1:] = self.df.groupby('SessionId').size().cumsum()\n",
    "        return offsets"
   ]
  },
  {
   "cell_type": "code",
   "execution_count": 30,
   "id": "corporate-helen",
   "metadata": {},
   "outputs": [
    {
     "data": {
      "text/html": [
       "<div>\n",
       "<style scoped>\n",
       "    .dataframe tbody tr th:only-of-type {\n",
       "        vertical-align: middle;\n",
       "    }\n",
       "\n",
       "    .dataframe tbody tr th {\n",
       "        vertical-align: top;\n",
       "    }\n",
       "\n",
       "    .dataframe thead th {\n",
       "        text-align: right;\n",
       "    }\n",
       "</style>\n",
       "<table border=\"1\" class=\"dataframe\">\n",
       "  <thead>\n",
       "    <tr style=\"text-align: right;\">\n",
       "      <th></th>\n",
       "      <th>SessionId</th>\n",
       "      <th>UserId</th>\n",
       "      <th>Time</th>\n",
       "      <th>ItemId</th>\n",
       "      <th>Rating</th>\n",
       "      <th>item_idx</th>\n",
       "    </tr>\n",
       "  </thead>\n",
       "  <tbody>\n",
       "    <tr>\n",
       "      <th>0</th>\n",
       "      <td>0</td>\n",
       "      <td>1</td>\n",
       "      <td>978300019</td>\n",
       "      <td>3186</td>\n",
       "      <td>4</td>\n",
       "      <td>0</td>\n",
       "    </tr>\n",
       "    <tr>\n",
       "      <th>1</th>\n",
       "      <td>1</td>\n",
       "      <td>1</td>\n",
       "      <td>978300055</td>\n",
       "      <td>1270</td>\n",
       "      <td>5</td>\n",
       "      <td>1</td>\n",
       "    </tr>\n",
       "    <tr>\n",
       "      <th>2</th>\n",
       "      <td>1</td>\n",
       "      <td>1</td>\n",
       "      <td>978300055</td>\n",
       "      <td>1721</td>\n",
       "      <td>4</td>\n",
       "      <td>2</td>\n",
       "    </tr>\n",
       "    <tr>\n",
       "      <th>3</th>\n",
       "      <td>1</td>\n",
       "      <td>1</td>\n",
       "      <td>978300055</td>\n",
       "      <td>1022</td>\n",
       "      <td>5</td>\n",
       "      <td>3</td>\n",
       "    </tr>\n",
       "    <tr>\n",
       "      <th>4</th>\n",
       "      <td>2</td>\n",
       "      <td>1</td>\n",
       "      <td>978300103</td>\n",
       "      <td>2340</td>\n",
       "      <td>3</td>\n",
       "      <td>4</td>\n",
       "    </tr>\n",
       "    <tr>\n",
       "      <th>5</th>\n",
       "      <td>3</td>\n",
       "      <td>1</td>\n",
       "      <td>978300172</td>\n",
       "      <td>1836</td>\n",
       "      <td>5</td>\n",
       "      <td>5</td>\n",
       "    </tr>\n",
       "    <tr>\n",
       "      <th>6</th>\n",
       "      <td>4</td>\n",
       "      <td>1</td>\n",
       "      <td>978300275</td>\n",
       "      <td>3408</td>\n",
       "      <td>4</td>\n",
       "      <td>6</td>\n",
       "    </tr>\n",
       "    <tr>\n",
       "      <th>7</th>\n",
       "      <td>5</td>\n",
       "      <td>1</td>\n",
       "      <td>978300719</td>\n",
       "      <td>2804</td>\n",
       "      <td>5</td>\n",
       "      <td>7</td>\n",
       "    </tr>\n",
       "    <tr>\n",
       "      <th>8</th>\n",
       "      <td>5</td>\n",
       "      <td>1</td>\n",
       "      <td>978300719</td>\n",
       "      <td>1207</td>\n",
       "      <td>4</td>\n",
       "      <td>8</td>\n",
       "    </tr>\n",
       "    <tr>\n",
       "      <th>9</th>\n",
       "      <td>6</td>\n",
       "      <td>1</td>\n",
       "      <td>978300760</td>\n",
       "      <td>1193</td>\n",
       "      <td>5</td>\n",
       "      <td>9</td>\n",
       "    </tr>\n",
       "  </tbody>\n",
       "</table>\n",
       "</div>"
      ],
      "text/plain": [
       "   SessionId  UserId       Time  ItemId  Rating  item_idx\n",
       "0          0       1  978300019    3186       4         0\n",
       "1          1       1  978300055    1270       5         1\n",
       "2          1       1  978300055    1721       4         2\n",
       "3          1       1  978300055    1022       5         3\n",
       "4          2       1  978300103    2340       3         4\n",
       "5          3       1  978300172    1836       5         5\n",
       "6          4       1  978300275    3408       4         6\n",
       "7          5       1  978300719    2804       5         7\n",
       "8          5       1  978300719    1207       4         8\n",
       "9          6       1  978300760    1193       5         9"
      ]
     },
     "execution_count": 30,
     "metadata": {},
     "output_type": "execute_result"
    }
   ],
   "source": [
    "tr_dataset = SessionDataset(tr)\n",
    "tr_dataset.df.head(10)"
   ]
  },
  {
   "cell_type": "markdown",
   "id": "living-negative",
   "metadata": {},
   "source": [
    "- train data로 SessionDataset 객체를 만들고 각 변수들을 살펴본다."
   ]
  },
  {
   "cell_type": "code",
   "execution_count": 31,
   "id": "diverse-malpractice",
   "metadata": {},
   "outputs": [
    {
     "data": {
      "text/plain": [
       "array([     0,      1,      4, ..., 826180, 826181, 826182], dtype=int32)"
      ]
     },
     "execution_count": 31,
     "metadata": {},
     "output_type": "execute_result"
    }
   ],
   "source": [
    "## click_offsets - 각 세션이 시작된 index를 담고 있다.\n",
    "tr_dataset.click_offsets"
   ]
  },
  {
   "cell_type": "code",
   "execution_count": 32,
   "id": "essential-ferry",
   "metadata": {},
   "outputs": [
    {
     "data": {
      "text/plain": [
       "array([     0,      1,      2, ..., 415853, 415854, 415855])"
      ]
     },
     "execution_count": 32,
     "metadata": {},
     "output_type": "execute_result"
    }
   ],
   "source": [
    "## session_idx - 각 세션을 indexing한 Numpy Array이다.\n",
    "tr_dataset.session_idx"
   ]
  },
  {
   "cell_type": "markdown",
   "id": "neural-hypothetical",
   "metadata": {},
   "source": [
    "### 2) SessionDataLoader"
   ]
  },
  {
   "cell_type": "markdown",
   "id": "statewide-exception",
   "metadata": {},
   "source": [
    "- SessionDataset 객체를 받아서 Session-Parallel mini-batch를 만드는 클래스를 하나 설정한다."
   ]
  },
  {
   "cell_type": "code",
   "execution_count": 33,
   "id": "flying-looking",
   "metadata": {},
   "outputs": [],
   "source": [
    "class SessionDataLoader:\n",
    "    \"\"\"Credit to yhs-968/pyGRU4REC.\"\"\"\n",
    "\n",
    "    def __init__(self, dataset: SessionDataset, batch_size=50):\n",
    "        self.dataset = dataset\n",
    "        self.batch_size = batch_size\n",
    "\n",
    "    def __iter__(self):   ## 모델 input, label, session이 끝나는 곳의 위치를 생성하는 함수\n",
    "        \"\"\" Returns the iterator for producing session-parallel training mini-batches.\n",
    "        Yields:\n",
    "            input (B,):  Item indices that will be encoded as one-hot vectors later.\n",
    "            target (B,): a Variable that stores the target item indices\n",
    "            masks: Numpy array indicating the positions of the sessions to be terminated\n",
    "        \"\"\"\n",
    "\n",
    "        start, end, mask, last_session, finished = self.initialize()  # initialize 메소드에서 확인해주세요.\n",
    "        \"\"\"\n",
    "        start : Index Where Session Start\n",
    "        end : Index Where Session End\n",
    "        mask : indicator for the sessions to be terminated\n",
    "        \"\"\"\n",
    "\n",
    "        while not finished:\n",
    "            min_len = (end - start).min() - 1  # Shortest Length Among Sessions\n",
    "            for i in range(min_len):\n",
    "                # Build inputs & targets\n",
    "                inp = self.dataset.df['item_idx'].values[start + i]\n",
    "                target = self.dataset.df['item_idx'].values[start + i + 1]\n",
    "                yield inp, target, mask\n",
    "\n",
    "            start, end, mask, last_session, finished = self.update_status(start, end, min_len, last_session, finished)\n",
    "\n",
    "    def initialize(self):\n",
    "        first_iters = np.arange(self.batch_size)    # 첫 배치에 사용할 세션 Index를 가져옵니다.\n",
    "        last_session = self.batch_size - 1    # 마지막으로 다루고 있는 세션 Index를 저장해둡니다.\n",
    "        start = self.dataset.click_offsets[self.dataset.session_idx[first_iters]]       # data 상에서 session이 시작된 위치를 가져옵니다.\n",
    "        end = self.dataset.click_offsets[self.dataset.session_idx[first_iters] + 1]  # session이 끝난 위치 바로 다음 위치를 가져옵니다.\n",
    "        mask = np.array([])   # session의 모든 아이템을 다 돌은 경우 mask에 추가해줄 것입니다.\n",
    "        finished = False         # data를 전부 돌았는지 기록하기 위한 변수입니다.\n",
    "        return start, end, mask, last_session, finished\n",
    "\n",
    "    def update_status(self, start: np.ndarray, end: np.ndarray, min_len: int, last_session: int, finished: bool):  \n",
    "        # 다음 배치 데이터를 생성하기 위해 상태를 update합니다.\n",
    "        \n",
    "        start += min_len   # __iter__에서 min_len 만큼 for문을 돌았으므로 start를 min_len 만큼 더해줍니다.\n",
    "        mask = np.arange(self.batch_size)[(end - start) == 1]  \n",
    "        # end는 다음 세션이 시작되는 위치인데 start와 한 칸 차이난다는 것은 session이 끝났다는 뜻입니다. mask에 기록해줍니다.\n",
    "\n",
    "        for i, idx in enumerate(mask, start=1):  # mask에 추가된 세션 개수만큼 새로운 세션을 돌것입니다.\n",
    "            new_session = last_session + i  \n",
    "            if new_session > self.dataset.session_idx[-1]:  # 만약 새로운 세션이 마지막 세션 index보다 크다면 모든 학습데이터를 돈 것입니다.\n",
    "                finished = True\n",
    "                break\n",
    "            # update the next starting/ending point\n",
    "            start[idx] = self.dataset.click_offsets[self.dataset.session_idx[new_session]]     # 종료된 세션 대신 새로운 세션의 시작점을 기록합니다.\n",
    "            end[idx] = self.dataset.click_offsets[self.dataset.session_idx[new_session] + 1]\n",
    "\n",
    "        last_session += len(mask)  # 마지막 세션의 위치를 기록해둡니다.\n",
    "        return start, end, mask, last_session, finished"
   ]
  },
  {
   "cell_type": "code",
   "execution_count": 34,
   "id": "grand-champion",
   "metadata": {},
   "outputs": [
    {
     "data": {
      "text/html": [
       "<div>\n",
       "<style scoped>\n",
       "    .dataframe tbody tr th:only-of-type {\n",
       "        vertical-align: middle;\n",
       "    }\n",
       "\n",
       "    .dataframe tbody tr th {\n",
       "        vertical-align: top;\n",
       "    }\n",
       "\n",
       "    .dataframe thead th {\n",
       "        text-align: right;\n",
       "    }\n",
       "</style>\n",
       "<table border=\"1\" class=\"dataframe\">\n",
       "  <thead>\n",
       "    <tr style=\"text-align: right;\">\n",
       "      <th></th>\n",
       "      <th>SessionId</th>\n",
       "      <th>UserId</th>\n",
       "      <th>Time</th>\n",
       "      <th>ItemId</th>\n",
       "      <th>Rating</th>\n",
       "      <th>item_idx</th>\n",
       "    </tr>\n",
       "  </thead>\n",
       "  <tbody>\n",
       "    <tr>\n",
       "      <th>0</th>\n",
       "      <td>0</td>\n",
       "      <td>1</td>\n",
       "      <td>978300019</td>\n",
       "      <td>3186</td>\n",
       "      <td>4</td>\n",
       "      <td>0</td>\n",
       "    </tr>\n",
       "    <tr>\n",
       "      <th>1</th>\n",
       "      <td>1</td>\n",
       "      <td>1</td>\n",
       "      <td>978300055</td>\n",
       "      <td>1270</td>\n",
       "      <td>5</td>\n",
       "      <td>1</td>\n",
       "    </tr>\n",
       "    <tr>\n",
       "      <th>2</th>\n",
       "      <td>1</td>\n",
       "      <td>1</td>\n",
       "      <td>978300055</td>\n",
       "      <td>1721</td>\n",
       "      <td>4</td>\n",
       "      <td>2</td>\n",
       "    </tr>\n",
       "    <tr>\n",
       "      <th>3</th>\n",
       "      <td>1</td>\n",
       "      <td>1</td>\n",
       "      <td>978300055</td>\n",
       "      <td>1022</td>\n",
       "      <td>5</td>\n",
       "      <td>3</td>\n",
       "    </tr>\n",
       "    <tr>\n",
       "      <th>4</th>\n",
       "      <td>2</td>\n",
       "      <td>1</td>\n",
       "      <td>978300103</td>\n",
       "      <td>2340</td>\n",
       "      <td>3</td>\n",
       "      <td>4</td>\n",
       "    </tr>\n",
       "    <tr>\n",
       "      <th>5</th>\n",
       "      <td>3</td>\n",
       "      <td>1</td>\n",
       "      <td>978300172</td>\n",
       "      <td>1836</td>\n",
       "      <td>5</td>\n",
       "      <td>5</td>\n",
       "    </tr>\n",
       "    <tr>\n",
       "      <th>6</th>\n",
       "      <td>4</td>\n",
       "      <td>1</td>\n",
       "      <td>978300275</td>\n",
       "      <td>3408</td>\n",
       "      <td>4</td>\n",
       "      <td>6</td>\n",
       "    </tr>\n",
       "    <tr>\n",
       "      <th>7</th>\n",
       "      <td>5</td>\n",
       "      <td>1</td>\n",
       "      <td>978300719</td>\n",
       "      <td>2804</td>\n",
       "      <td>5</td>\n",
       "      <td>7</td>\n",
       "    </tr>\n",
       "    <tr>\n",
       "      <th>8</th>\n",
       "      <td>5</td>\n",
       "      <td>1</td>\n",
       "      <td>978300719</td>\n",
       "      <td>1207</td>\n",
       "      <td>4</td>\n",
       "      <td>8</td>\n",
       "    </tr>\n",
       "    <tr>\n",
       "      <th>9</th>\n",
       "      <td>6</td>\n",
       "      <td>1</td>\n",
       "      <td>978300760</td>\n",
       "      <td>1193</td>\n",
       "      <td>5</td>\n",
       "      <td>9</td>\n",
       "    </tr>\n",
       "    <tr>\n",
       "      <th>10</th>\n",
       "      <td>6</td>\n",
       "      <td>1</td>\n",
       "      <td>978300760</td>\n",
       "      <td>720</td>\n",
       "      <td>3</td>\n",
       "      <td>10</td>\n",
       "    </tr>\n",
       "    <tr>\n",
       "      <th>11</th>\n",
       "      <td>6</td>\n",
       "      <td>1</td>\n",
       "      <td>978300760</td>\n",
       "      <td>260</td>\n",
       "      <td>4</td>\n",
       "      <td>11</td>\n",
       "    </tr>\n",
       "    <tr>\n",
       "      <th>12</th>\n",
       "      <td>7</td>\n",
       "      <td>1</td>\n",
       "      <td>978301368</td>\n",
       "      <td>919</td>\n",
       "      <td>4</td>\n",
       "      <td>12</td>\n",
       "    </tr>\n",
       "    <tr>\n",
       "      <th>13</th>\n",
       "      <td>8</td>\n",
       "      <td>1</td>\n",
       "      <td>978301398</td>\n",
       "      <td>608</td>\n",
       "      <td>4</td>\n",
       "      <td>13</td>\n",
       "    </tr>\n",
       "    <tr>\n",
       "      <th>14</th>\n",
       "      <td>9</td>\n",
       "      <td>1</td>\n",
       "      <td>978301570</td>\n",
       "      <td>2692</td>\n",
       "      <td>4</td>\n",
       "      <td>14</td>\n",
       "    </tr>\n",
       "  </tbody>\n",
       "</table>\n",
       "</div>"
      ],
      "text/plain": [
       "    SessionId  UserId       Time  ItemId  Rating  item_idx\n",
       "0           0       1  978300019    3186       4         0\n",
       "1           1       1  978300055    1270       5         1\n",
       "2           1       1  978300055    1721       4         2\n",
       "3           1       1  978300055    1022       5         3\n",
       "4           2       1  978300103    2340       3         4\n",
       "5           3       1  978300172    1836       5         5\n",
       "6           4       1  978300275    3408       4         6\n",
       "7           5       1  978300719    2804       5         7\n",
       "8           5       1  978300719    1207       4         8\n",
       "9           6       1  978300760    1193       5         9\n",
       "10          6       1  978300760     720       3        10\n",
       "11          6       1  978300760     260       4        11\n",
       "12          7       1  978301368     919       4        12\n",
       "13          8       1  978301398     608       4        13\n",
       "14          9       1  978301570    2692       4        14"
      ]
     },
     "execution_count": 34,
     "metadata": {},
     "output_type": "execute_result"
    }
   ],
   "source": [
    "tr_data_loader = SessionDataLoader(tr_dataset, batch_size=4)\n",
    "tr_dataset.df.head(15)"
   ]
  },
  {
   "cell_type": "code",
   "execution_count": 35,
   "id": "cordless-huntington",
   "metadata": {},
   "outputs": [],
   "source": [
    "iter_ex = iter(tr_data_loader)"
   ]
  },
  {
   "cell_type": "code",
   "execution_count": 36,
   "id": "outdoor-bulletin",
   "metadata": {},
   "outputs": [
    {
     "name": "stdout",
     "output_type": "stream",
     "text": [
      "Model Input Item Idx are : [19  1  7  9]\n",
      "Label Item Idx are :       [20  2  8 10]\n",
      "Previous Masked Input Idx are [0]\n"
     ]
    }
   ],
   "source": [
    "inputs, labels, mask =  next(iter_ex)\n",
    "print(f'Model Input Item Idx are : {inputs}')\n",
    "print(f'Label Item Idx are : {\"\":5} {labels}')\n",
    "print(f'Previous Masked Input Idx are {mask}')"
   ]
  },
  {
   "cell_type": "markdown",
   "id": "underlying-empty",
   "metadata": {},
   "source": [
    "## 7. Modeling I"
   ]
  },
  {
   "cell_type": "markdown",
   "id": "outstanding-aruba",
   "metadata": {},
   "source": [
    "### 1) Evaluation Metric (평가 지표)"
   ]
  },
  {
   "cell_type": "markdown",
   "id": "passing-hacker",
   "metadata": {},
   "source": [
    "- 이번 프로젝트에서는 평가 지표로 **MRR**과 **Recall**을 사용할 것이다.\n",
    "- 여기서 **MRR**은 정답 데이터의 index를 역수화한 값이다.\n",
    "- 루브릭에서도 해당 평가 지표를 기반으로 개선 및 분석이 이루어진다."
   ]
  },
  {
   "cell_type": "code",
   "execution_count": 37,
   "id": "natural-request",
   "metadata": {},
   "outputs": [],
   "source": [
    "def mrr_k(pred, truth: int, k: int):\n",
    "    indexing = np.where(pred[:k] == truth)[0]\n",
    "    if len(indexing) > 0:\n",
    "        return 1 / (indexing[0] + 1)\n",
    "    else:\n",
    "        return 0\n",
    "\n",
    "\n",
    "def recall_k(pred, truth: int, k: int) -> int:\n",
    "    answer = truth in pred[:k]\n",
    "    return int(answer)"
   ]
  },
  {
   "cell_type": "markdown",
   "id": "assisted-strap",
   "metadata": {},
   "source": [
    "### 2) Model Architecture"
   ]
  },
  {
   "cell_type": "markdown",
   "id": "attempted-treasury",
   "metadata": {},
   "source": [
    "- 프로젝트에서 사용되는 모델 구조는 노드에서 소개된 **GRU4REC**을 사용한다.\n",
    "- **GRU4REC 더 자세히 알아보기** : https://blog.naver.com/stu5073/222208516966"
   ]
  },
  {
   "cell_type": "code",
   "execution_count": 38,
   "id": "civic-trader",
   "metadata": {},
   "outputs": [
    {
     "name": "stdout",
     "output_type": "stream",
     "text": [
      "아키텍쳐 구현을 위한 라이브러리를 불러왔다!\n"
     ]
    }
   ],
   "source": [
    "import numpy as np\n",
    "import tensorflow as tf\n",
    "from tensorflow.keras.layers import Input, Dense, Dropout, GRU\n",
    "from tensorflow.keras.losses import categorical_crossentropy\n",
    "from tensorflow.keras.models import Model\n",
    "from tensorflow.keras.optimizers import Adam\n",
    "from tensorflow.keras.utils import to_categorical\n",
    "from tqdm import tqdm\n",
    "\n",
    "print('아키텍쳐 구현을 위한 라이브러리를 불러왔다!')"
   ]
  },
  {
   "cell_type": "code",
   "execution_count": 39,
   "id": "subsequent-wealth",
   "metadata": {},
   "outputs": [],
   "source": [
    "def create_model(args):\n",
    "    inputs = Input(batch_shape=(args.batch_size, 1, args.num_items))\n",
    "    gru, _ = GRU(args.hsz, stateful=True, return_state=True, name='GRU')(inputs)\n",
    "    dropout = Dropout(args.drop_rate)(gru)\n",
    "    predictions = Dense(args.num_items, activation='softmax')(dropout)\n",
    "    model = Model(inputs=inputs, outputs=[predictions])\n",
    "    model.compile(loss=categorical_crossentropy, optimizer=Adam(args.lr), metrics=['accuracy'])\n",
    "    model.summary()\n",
    "    return model"
   ]
  },
  {
   "cell_type": "markdown",
   "id": "textile-wonder",
   "metadata": {},
   "source": [
    "- 이 모델에는 다양한 하이퍼파라미터를 사용하게 된다.\n",
    "- 다양한 하이퍼파라미터를 활용해야 하는 만큼 **클래스로 관리**하고자 한다."
   ]
  },
  {
   "cell_type": "code",
   "execution_count": 40,
   "id": "charming-annex",
   "metadata": {},
   "outputs": [],
   "source": [
    "class Args:\n",
    "    def __init__(self, tr, val, test, batch_size, hsz, drop_rate, lr, epochs, k):\n",
    "        self.tr = tr\n",
    "        self.val = val\n",
    "        self.test = test\n",
    "        self.num_items = tr['ItemId'].nunique()\n",
    "        self.num_sessions = tr['SessionId'].nunique()\n",
    "        self.batch_size = batch_size\n",
    "        self.hsz = hsz\n",
    "        self.drop_rate = drop_rate\n",
    "        self.lr = lr\n",
    "        self.epochs = epochs\n",
    "        self.k = k\n",
    "\n",
    "args = Args(tr, val, test, batch_size=256, hsz=50, drop_rate=0.01, lr=0.00001, epochs=7, k=50)"
   ]
  },
  {
   "cell_type": "code",
   "execution_count": 41,
   "id": "prescribed-meaning",
   "metadata": {},
   "outputs": [
    {
     "name": "stdout",
     "output_type": "stream",
     "text": [
      "Model: \"model\"\n",
      "_________________________________________________________________\n",
      "Layer (type)                 Output Shape              Param #   \n",
      "=================================================================\n",
      "input_1 (InputLayer)         [(256, 1, 3622)]          0         \n",
      "_________________________________________________________________\n",
      "GRU (GRU)                    [(256, 50), (256, 50)]    551100    \n",
      "_________________________________________________________________\n",
      "dropout (Dropout)            (256, 50)                 0         \n",
      "_________________________________________________________________\n",
      "dense (Dense)                (256, 3622)               184722    \n",
      "=================================================================\n",
      "Total params: 735,822\n",
      "Trainable params: 735,822\n",
      "Non-trainable params: 0\n",
      "_________________________________________________________________\n"
     ]
    }
   ],
   "source": [
    "model = create_model(args)"
   ]
  },
  {
   "cell_type": "markdown",
   "id": "invisible-bikini",
   "metadata": {},
   "source": [
    "## 8. Modeling II"
   ]
  },
  {
   "cell_type": "markdown",
   "id": "average-visiting",
   "metadata": {},
   "source": [
    "### 1) Model Training"
   ]
  },
  {
   "cell_type": "markdown",
   "id": "horizontal-relationship",
   "metadata": {},
   "source": [
    "- 여기까지 구축된 모델을 가지고 학습을 진행한다.\n",
    "- 하이퍼 파라미터를 어떻게 조작하느냐에 따라 학습 시간에 차이가 있을 수 있다.. ㅠㅠ 😂😂😂"
   ]
  },
  {
   "cell_type": "code",
   "execution_count": 42,
   "id": "varying-commons",
   "metadata": {},
   "outputs": [],
   "source": [
    "# train 셋으로 학습하면서 valid 셋으로 검증합니다.\n",
    "def train_model(model, args):\n",
    "    train_dataset = SessionDataset(args.tr)\n",
    "    train_loader = SessionDataLoader(train_dataset, batch_size=args.batch_size)\n",
    "\n",
    "    for epoch in range(1, args.epochs + 1):\n",
    "        total_step = len(args.tr) - args.tr['SessionId'].nunique()\n",
    "        tr_loader = tqdm(train_loader, total=total_step // args.batch_size, desc='Train', mininterval=1)\n",
    "        for feat, target, mask in tr_loader:\n",
    "            reset_hidden_states(model, mask)  # 종료된 session은 hidden_state를 초기화합니다. 아래 메서드에서 확인해주세요.\n",
    "\n",
    "            input_ohe = to_categorical(feat, num_classes=args.num_items)\n",
    "            input_ohe = np.expand_dims(input_ohe, axis=1)\n",
    "            target_ohe = to_categorical(target, num_classes=args.num_items)\n",
    "\n",
    "            result = model.train_on_batch(input_ohe, target_ohe)\n",
    "            tr_loader.set_postfix(train_loss=result[0], accuracy = result[1])\n",
    "\n",
    "        val_recall, val_mrr = get_metrics(args.val, model, args, args.k)  # valid set에 대해 검증합니다.\n",
    "\n",
    "        print(f\"\\t - Recall@{args.k} epoch {epoch}: {val_recall:3f}\")\n",
    "        print(f\"\\t - MRR@{args.k}    epoch {epoch}: {val_mrr:3f}\\n\")\n",
    "\n",
    "\n",
    "def reset_hidden_states(model, mask):\n",
    "    gru_layer = model.get_layer(name='GRU')  # model에서 gru layer를 가져옵니다.\n",
    "    hidden_states = gru_layer.states[0].numpy()  # gru_layer의 parameter를 가져옵니다.\n",
    "    for elt in mask:  # mask된 인덱스 즉, 종료된 세션의 인덱스를 돌면서\n",
    "        hidden_states[elt, :] = 0  # parameter를 초기화 합니다.\n",
    "    gru_layer.reset_states(states=hidden_states)\n",
    "    \n",
    "    \n",
    "def get_metrics(data, model, args, k: int):  # valid셋과 test셋을 평가하는 코드입니다. \n",
    "                                             # train과 거의 같지만 mrr, recall을 구하는 라인이 있습니다.\n",
    "    dataset = SessionDataset(data)\n",
    "    loader = SessionDataLoader(dataset, batch_size=args.batch_size)\n",
    "    recall_list, mrr_list = [], []\n",
    "\n",
    "    total_step = len(data) - data['SessionId'].nunique()\n",
    "    for inputs, label, mask in tqdm(loader, total=total_step // args.batch_size, desc='Evaluation', mininterval=1):\n",
    "        reset_hidden_states(model, mask)\n",
    "        input_ohe = to_categorical(inputs, num_classes=args.num_items)\n",
    "        input_ohe = np.expand_dims(input_ohe, axis=1)\n",
    "\n",
    "        pred = model.predict(input_ohe, batch_size=args.batch_size)\n",
    "        pred_arg = tf.argsort(pred, direction='DESCENDING')  # softmax 값이 큰 순서대로 sorting 합니다.\n",
    "\n",
    "        length = len(inputs)\n",
    "        recall_list.extend([recall_k(pred_arg[i], label[i], k) for i in range(length)])\n",
    "        mrr_list.extend([mrr_k(pred_arg[i], label[i], k) for i in range(length)])\n",
    "\n",
    "    recall, mrr = np.mean(recall_list), np.mean(mrr_list)\n",
    "    return recall, mrr"
   ]
  },
  {
   "cell_type": "code",
   "execution_count": 43,
   "id": "electric-paragraph",
   "metadata": {},
   "outputs": [
    {
     "name": "stderr",
     "output_type": "stream",
     "text": [
      "Train: 100%|█████████▉| 1601/1602 [00:39<00:00, 40.85it/s, accuracy=0.00781, train_loss=8.16]\n",
      "Evaluation:  80%|████████  | 4/5 [00:14<00:03,  3.60s/it]\n",
      "Train:   0%|          | 0/1602 [00:00<?, ?it/s, accuracy=0, train_loss=8.16]      "
     ]
    },
    {
     "name": "stdout",
     "output_type": "stream",
     "text": [
      "\t - Recall@50 epoch 1: 0.077148\n",
      "\t - MRR@50    epoch 1: 0.007257\n",
      "\n"
     ]
    },
    {
     "name": "stderr",
     "output_type": "stream",
     "text": [
      "Train: 100%|█████████▉| 1601/1602 [00:38<00:00, 42.05it/s, accuracy=0.00781, train_loss=7.58]\n",
      "Evaluation:  80%|████████  | 4/5 [00:14<00:03,  3.51s/it]\n",
      "Train:   0%|          | 0/1602 [00:00<?, ?it/s, accuracy=0.00391, train_loss=7.47]"
     ]
    },
    {
     "name": "stdout",
     "output_type": "stream",
     "text": [
      "\t - Recall@50 epoch 2: 0.112305\n",
      "\t - MRR@50    epoch 2: 0.009321\n",
      "\n"
     ]
    },
    {
     "name": "stderr",
     "output_type": "stream",
     "text": [
      "Train: 100%|█████████▉| 1601/1602 [00:37<00:00, 42.19it/s, accuracy=0.00781, train_loss=7.49]\n",
      "Evaluation:  80%|████████  | 4/5 [00:13<00:03,  3.48s/it]\n",
      "Train:   0%|          | 0/1602 [00:00<?, ?it/s, accuracy=0.00391, train_loss=7.35]"
     ]
    },
    {
     "name": "stdout",
     "output_type": "stream",
     "text": [
      "\t - Recall@50 epoch 3: 0.115234\n",
      "\t - MRR@50    epoch 3: 0.009731\n",
      "\n"
     ]
    },
    {
     "name": "stderr",
     "output_type": "stream",
     "text": [
      "Train: 100%|█████████▉| 1601/1602 [00:37<00:00, 42.30it/s, accuracy=0.00391, train_loss=7.46]\n",
      "Evaluation:  80%|████████  | 4/5 [00:13<00:03,  3.46s/it]\n",
      "Train:   0%|          | 0/1602 [00:00<?, ?it/s, accuracy=0, train_loss=7.3]       "
     ]
    },
    {
     "name": "stdout",
     "output_type": "stream",
     "text": [
      "\t - Recall@50 epoch 4: 0.115234\n",
      "\t - MRR@50    epoch 4: 0.011260\n",
      "\n"
     ]
    },
    {
     "name": "stderr",
     "output_type": "stream",
     "text": [
      "Train: 100%|█████████▉| 1601/1602 [00:37<00:00, 42.50it/s, accuracy=0.00391, train_loss=7.44]\n",
      "Evaluation:  80%|████████  | 4/5 [00:13<00:03,  3.46s/it]\n",
      "Train:   0%|          | 0/1602 [00:00<?, ?it/s, accuracy=0, train_loss=7.28]      "
     ]
    },
    {
     "name": "stdout",
     "output_type": "stream",
     "text": [
      "\t - Recall@50 epoch 5: 0.117188\n",
      "\t - MRR@50    epoch 5: 0.011359\n",
      "\n"
     ]
    },
    {
     "name": "stderr",
     "output_type": "stream",
     "text": [
      "Train: 100%|█████████▉| 1601/1602 [00:37<00:00, 42.49it/s, accuracy=0.00391, train_loss=7.43]\n",
      "Evaluation:  80%|████████  | 4/5 [00:13<00:03,  3.41s/it]\n",
      "Train:   0%|          | 0/1602 [00:00<?, ?it/s, accuracy=0, train_loss=7.26]      "
     ]
    },
    {
     "name": "stdout",
     "output_type": "stream",
     "text": [
      "\t - Recall@50 epoch 6: 0.120117\n",
      "\t - MRR@50    epoch 6: 0.011496\n",
      "\n"
     ]
    },
    {
     "name": "stderr",
     "output_type": "stream",
     "text": [
      "Train: 100%|█████████▉| 1601/1602 [00:37<00:00, 42.24it/s, accuracy=0.00391, train_loss=7.42]\n",
      "Evaluation:  80%|████████  | 4/5 [00:13<00:03,  3.45s/it]"
     ]
    },
    {
     "name": "stdout",
     "output_type": "stream",
     "text": [
      "\t - Recall@50 epoch 7: 0.118164\n",
      "\t - MRR@50    epoch 7: 0.011592\n",
      "\n"
     ]
    },
    {
     "name": "stderr",
     "output_type": "stream",
     "text": [
      "\n"
     ]
    }
   ],
   "source": [
    "## 모델 학습 시도\n",
    "train_model(model, args)"
   ]
  },
  {
   "cell_type": "markdown",
   "id": "three-carbon",
   "metadata": {},
   "source": [
    "### 2) Inference (모델 평가)"
   ]
  },
  {
   "cell_type": "markdown",
   "id": "naughty-yorkshire",
   "metadata": {},
   "source": [
    "- 테스트 모델함수를 정의하고 모델을 평가한다."
   ]
  },
  {
   "cell_type": "code",
   "execution_count": 44,
   "id": "comic-tiger",
   "metadata": {},
   "outputs": [
    {
     "name": "stderr",
     "output_type": "stream",
     "text": [
      "Evaluation:  80%|████████  | 4/5 [00:06<00:01,  1.55s/it]"
     ]
    },
    {
     "name": "stdout",
     "output_type": "stream",
     "text": [
      "\t - Recall@50: 0.055664\n",
      "\t - MRR@50: 0.013750\n",
      "\n"
     ]
    },
    {
     "name": "stderr",
     "output_type": "stream",
     "text": [
      "\n"
     ]
    }
   ],
   "source": [
    "def test_model(model, args, test):\n",
    "    test_recall, test_mrr = get_metrics(test, model, args, 20)\n",
    "    print(f\"\\t - Recall@{args.k}: {test_recall:3f}\")\n",
    "    print(f\"\\t - MRR@{args.k}: {test_mrr:3f}\\n\")\n",
    "\n",
    "test_model(model, args, test)"
   ]
  },
  {
   "cell_type": "markdown",
   "id": "muslim-circumstances",
   "metadata": {},
   "source": [
    "## 9. 초기 훈련결과 분석"
   ]
  },
  {
   "cell_type": "markdown",
   "id": "detected-waste",
   "metadata": {},
   "source": [
    "- 초기 훈련 시에 설정한 값들은 다음과 같다."
   ]
  },
  {
   "attachments": {
    "12-4.PNG": {
     "image/png": "[encoded data removed]"
    }
   },
   "cell_type": "markdown",
   "id": "hybrid-virus",
   "metadata": {},
   "source": [
    "![12-4.PNG](attachment:12-4.PNG)"
   ]
  },
  {
   "attachments": {
    "12-2.PNG": {
     "image/png": "[encoded data removed]"
    }
   },
   "cell_type": "markdown",
   "id": "differential-repository",
   "metadata": {},
   "source": [
    "![12-2.PNG](attachment:12-2.PNG)"
   ]
  },
  {
   "attachments": {
    "12-3.PNG": {
     "image/png": "[encoded data removed]"
    }
   },
   "cell_type": "markdown",
   "id": "virtual-combat",
   "metadata": {},
   "source": [
    "![12-3.PNG](attachment:12-3.PNG)"
   ]
  },
  {
   "cell_type": "markdown",
   "id": "general-queen",
   "metadata": {},
   "source": [
    "- 위 조건에서 훈련을 시도했을 때, 총 10번의 epoch 동안 대체로 감소하는 양상을 보였지만, 8번째 epoch에서 train loss가 잠시 증가한 부분이 있었다.\n",
    "- 조금 더 안정적인 감소 추이를 위해 다음 스텝에서 몇 번의 시도를 해볼 것이다."
   ]
  },
  {
   "cell_type": "markdown",
   "id": "dedicated-wealth",
   "metadata": {},
   "source": [
    "## 10. 특명 : 변화 추이 관찰"
   ]
  },
  {
   "cell_type": "markdown",
   "id": "promising-trustee",
   "metadata": {},
   "source": [
    "- 조금 더 training loss를 안정적으로 감소시키기 위해 이제부터 몇 번의 시도를 통해 더욱 나은 결과를 만들어 본다! 😀😀\n",
    "- **이제부터 깔끔한 정리를 위해 각 결과를 아래와 같은 Formation으로 정리한다.**\n",
    "1. Rating 제한 수치\n",
    "2. test, val 나눈 일수\n",
    "3. 클래스 내에 속한 하이퍼파라미터들\n",
    "4. train loss의 안정적인 감소가 이루어졌다고 판단하는가? (Y, D, N) 🤍**D는 애매한 경우를 말한다.**🤍\n",
    "5. 모델 평가로 얻은 Recall, MRR 값 (순서대로)"
   ]
  },
  {
   "cell_type": "markdown",
   "id": "innocent-developer",
   "metadata": {},
   "source": [
    "### 💚재시도 1번째💚"
   ]
  },
  {
   "cell_type": "markdown",
   "id": "super-latest",
   "metadata": {},
   "source": [
    "1. Rating 3점 이상\n",
    "2. test : 마지막 날로부터 120일, val : 마지막 날로부터 121~240일\n",
    "3. batch_size=128, hsz=50, drop_rate=0.2, lr=0.005, epochs=10, k=20\n",
    "4. N (전체적으로 보았을 때 train loss가 줄었다 늘어나는 양상이 보인다)\n",
    "5. 0.221094, 0.079609"
   ]
  },
  {
   "cell_type": "markdown",
   "id": "artificial-puppy",
   "metadata": {},
   "source": [
    "### 💚재시도 2번째💚"
   ]
  },
  {
   "cell_type": "markdown",
   "id": "computational-valentine",
   "metadata": {},
   "source": [
    "1. Rating 3점 이상\n",
    "2. test : 마지막 날로부터 120일, val : 마지막 날로부터 121~240일\n",
    "3. batch_size=128, hsz=50, drop_rate=0.05, lr=0.02, epochs=10, k=20\n",
    "4. N\n",
    "5. 0.178906, 0.057060"
   ]
  },
  {
   "cell_type": "markdown",
   "id": "difficult-store",
   "metadata": {},
   "source": [
    "### 💚재시도 3번째💚"
   ]
  },
  {
   "cell_type": "markdown",
   "id": "academic-pound",
   "metadata": {},
   "source": [
    "1. Rating 3점 이상\n",
    "2. test : 마지막 날로부터 120일, val : 마지막 날로부터 121~240일\n",
    "3. batch_size=512, hsz=30, drop_rate=0.2, lr=0.05, epochs=5, k=15\n",
    "4. D\n",
    "5. 0.164062, 0.058561"
   ]
  },
  {
   "cell_type": "markdown",
   "id": "married-speed",
   "metadata": {},
   "source": [
    "### 💚재시도 4번째💚"
   ]
  },
  {
   "cell_type": "markdown",
   "id": "differential-mexico",
   "metadata": {},
   "source": [
    "1. Rating 3점 이상\n",
    "2. test : 마지막 날로부터 120일, val : 마지막 날로부터 121~240일\n",
    "3. batch_size=512, hsz=50, drop_rate=0.02, lr=0.0005, epochs=5, k=10\n",
    "4. Y\n",
    "5. 0.156250, 0.047252. 특히 이번 시도에서는 **Recall과 MRR 값이 epoch가 늘면서 계속 증가만 하였다.**"
   ]
  },
  {
   "cell_type": "markdown",
   "id": "realistic-privacy",
   "metadata": {},
   "source": [
    "### 💚재시도 5번째💚"
   ]
  },
  {
   "cell_type": "markdown",
   "id": "differential-chaos",
   "metadata": {},
   "source": [
    "1. Rating 3점 이상\n",
    "2. test : 마지막 날로부터 120일, val : 마지막 날로부터 121~240일\n",
    "3. batch_size=256, hsz=50, drop_rate=0.01, lr=0.00001, epochs=10, k=20\n",
    "4. Y (지금까지 한 5번의 시도 중 epochs 동안 **train_loss가 증가한 적이 한 번도 없었다(모두 유지 또는 감소했다)!😍😍**)\n",
    "5. 0.055664, 0.013685"
   ]
  },
  {
   "attachments": {
    "12-5.PNG": {
     "image/png": "[encoded data removed]"
    }
   },
   "cell_type": "markdown",
   "id": "comfortable-snapshot",
   "metadata": {},
   "source": [
    "![12-5.PNG](attachment:12-5.PNG)"
   ]
  },
  {
   "attachments": {
    "12-6.PNG": {
     "image/png": "[encoded data removed]"
    }
   },
   "cell_type": "markdown",
   "id": "suspended-soccer",
   "metadata": {},
   "source": [
    "![12-6.PNG](attachment:12-6.PNG)"
   ]
  },
  {
   "attachments": {
    "12-7.PNG": {
     "image/png": "[encoded data removed]"
    }
   },
   "cell_type": "markdown",
   "id": "gorgeous-knife",
   "metadata": {},
   "source": [
    "![12-7.PNG](attachment:12-7.PNG)"
   ]
  },
  {
   "cell_type": "markdown",
   "id": "prostate-violence",
   "metadata": {},
   "source": [
    "### 💜중간 점검💜"
   ]
  },
  {
   "cell_type": "markdown",
   "id": "defensive-benefit",
   "metadata": {},
   "source": [
    "- 5번째 시도까지는 Rating과 test/val의 n_days 값을 그대로 두고, 모델의 args에 포함된 하이퍼 파라미터 튜닝을 시도했다.\n",
    "- 다음 시도부터는 **5번째 시도의 하이퍼 파라미터와 Rating으로 test/val의 n_days 값만을 바꾸며 시도**하고자 한다."
   ]
  },
  {
   "cell_type": "markdown",
   "id": "threatened-crack",
   "metadata": {},
   "source": [
    "### 💚재시도 6번째💚"
   ]
  },
  {
   "cell_type": "markdown",
   "id": "inside-column",
   "metadata": {},
   "source": [
    "1. Rating 3점 이상\n",
    "2. test : 마지막 날로부터 80일, val : 마지막 날로부터 81~160일\n",
    "3. batch_size=256, hsz=50, drop_rate=0.01, lr=0.00001, epochs=10, k=20\n",
    "4. Y\n",
    "5. 0.070312, 0.016585"
   ]
  },
  {
   "cell_type": "markdown",
   "id": "velvet-workshop",
   "metadata": {},
   "source": [
    "### 💚재시도 7번째💚"
   ]
  },
  {
   "cell_type": "markdown",
   "id": "incorporate-newton",
   "metadata": {},
   "source": [
    "1. Rating 3점 이상\n",
    "2. test : 마지막 날로부터 100일, val : 마지막 날로부터 101~200일\n",
    "3. batch_size=256, hsz=50, drop_rate=0.01, lr=0.00001, epochs=10, k=20\n",
    "4. D\n",
    "5. 0.062500, 0.015419"
   ]
  },
  {
   "cell_type": "markdown",
   "id": "numeric-transportation",
   "metadata": {},
   "source": [
    "### 💜중간 점검💜"
   ]
  },
  {
   "cell_type": "markdown",
   "id": "distant-document",
   "metadata": {},
   "source": [
    "- 여기까지는 train/val 부분의 n_days split 값을 바꾸어 가며 모델 학습을 시도했다. 다른 파라미터는 건들지 않았다.\n",
    "- 마지막으로 train/val 부분 n_days 값을 다시 120으로 하고, epoch 7에서 k의 값을 20보다 작은 시도 1번, 20보다 큰 시도 1번으로 총 2번의 시도를 더 하고 프로젝트를 마무리한다.\n",
    "- k의 값이 혹시나 recall 값을 올리는 데 도움을 줄 수 있을까?"
   ]
  },
  {
   "cell_type": "markdown",
   "id": "wound-settle",
   "metadata": {},
   "source": [
    "### 💚재시도 8번째💚"
   ]
  },
  {
   "cell_type": "markdown",
   "id": "accessory-bedroom",
   "metadata": {},
   "source": [
    "1. Rating 3점 이상\n",
    "2. test : 마지막 날로부터 120일, val : 마지막 날로부터 121~240일\n",
    "3. batch_size=256, hsz=50, drop_rate=0.01, lr=0.00001, epochs=7, k=10\n",
    "4. Y\n",
    "5. 0.055664, 0.013689"
   ]
  },
  {
   "cell_type": "markdown",
   "id": "liable-waterproof",
   "metadata": {},
   "source": [
    "### 💚재시도 9번째💚"
   ]
  },
  {
   "cell_type": "markdown",
   "id": "polish-shanghai",
   "metadata": {},
   "source": [
    "1. Rating 3점 이상\n",
    "2. test : 마지막 날로부터 120일, val : 마지막 날로부터 121~240일\n",
    "3. batch_size=256, hsz=50, drop_rate=0.01, lr=0.00001, epochs=7, k=50\n",
    "4. Y\n",
    "5. 0.055664, 0.013750"
   ]
  },
  {
   "cell_type": "markdown",
   "id": "pending-tucson",
   "metadata": {},
   "source": [
    "## 9. 프로젝트 회고"
   ]
  },
  {
   "cell_type": "markdown",
   "id": "innocent-continuity",
   "metadata": {},
   "source": [
    "- 지금까지의 12개의 노드 중에서 가장 어려웠던 노드였다. 😥😥\n",
    "- 노드에서는 Recall, MRR 값에 따른 성능 개선 관련 내용이 상세하게 나와 있지 않아 '개선되었다' 의 기준을 정확하게 이해하지는 못 했다.\n",
    "- Recall 값만으로 놓고 봤을 때, 오히려 1번째 시도에서 가장 높은 값이 나왔다.\n",
    "- MRR 값만으로 놓고 봤을 때, 역시나 1번째 시도에서 가장 높은 값이 나왔다.\n",
    "- 해당 노드 질풍노드 스터디를 할 수 있게 된다면, 가장 많은 질문을 하게 될 것 같은 노드라고 생각한다."
   ]
  }
 ],
 "metadata": {
  "kernelspec": {
   "display_name": "Python 3",
   "language": "python",
   "name": "python3"
  },
  "language_info": {
   "codemirror_mode": {
    "name": "ipython",
    "version": 3
   },
   "file_extension": ".py",
   "mimetype": "text/x-python",
   "name": "python",
   "nbconvert_exporter": "python",
   "pygments_lexer": "ipython3",
   "version": "3.7.9"
  }
 },
 "nbformat": 4,
 "nbformat_minor": 5
}
